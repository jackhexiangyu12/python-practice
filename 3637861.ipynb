{
 "cells": [
  {
   "cell_type": "markdown",
   "metadata": {
    "collapsed": false
   },
   "source": [
    "## 作业描述：\n",
    "\n",
    "### ✓代码跑通\n",
    "\n",
    "请大家根据课上所学内容，在 MyDNN类中补全代码，构造DNN网络，保证程序跑通。\n",
    "\n",
    "### ✓调优\n",
    "\n",
    "思考并动手进行调优，以在验证集上的准确率为评价指标，验证集上准确率越高，得分越高！"
   ]
  },
  {
   "cell_type": "markdown",
   "metadata": {
    "collapsed": false
   },
   "source": [
    "# **任务描述：**\n",
    "\n",
    "### 本次实践是一个多分类任务，需要将照片中的宝石分别进行识别，完成**宝石的识别**\n",
    "\n",
    "### **实践平台：百度AI实训平台-AI Studio、PaddlePaddle1.8.0 动态图**\n",
    "\n",
    "\n",
    "![](https://ai-studio-static-online.cdn.bcebos.com/7640d4434f894f5dbae1d85c62e54b8476e24856aabc4c5f9915fea1b26f3ebc)\n"
   ]
  },
  {
   "cell_type": "markdown",
   "metadata": {
    "collapsed": false
   },
   "source": [
    "# 深度神经网络(DNN)\n",
    "\n",
    "### **深度神经网络（Deep Neural Networks，简称DNN）是深度学习的基础，其结构为input、hidden（可有多层）、output，每层均为全连接。**\n",
    "![](https://ai-studio-static-online.cdn.bcebos.com/c60fc28848cf469fa3a7824aa637a03f3b2b213ce7b84659919cb24b4430bffb)\n",
    "\n"
   ]
  },
  {
   "cell_type": "markdown",
   "metadata": {
    "collapsed": false
   },
   "source": [
    "# 数据集介绍\n",
    "\n",
    "* **数据集文件名为archive_train.zip,archive_test.zip。**\n",
    "\n",
    "* **该数据集包含25个类别不同宝石的图像。**\n",
    "\n",
    "* **这些类别已经分为训练和测试数据。**\n",
    "\n",
    "* **图像大小不一，格式为.jpeg。**\n",
    "\n",
    "\n",
    "![](https://ai-studio-static-online.cdn.bcebos.com/7640d4434f894f5dbae1d85c62e54b8476e24856aabc4c5f9915fea1b26f3ebc)\n"
   ]
  },
  {
   "cell_type": "code",
   "execution_count": null,
   "metadata": {
    "collapsed": false
   },
   "outputs": [
    {
     "name": "stdout",
     "output_type": "stream",
     "text": [
      "data66363  dataset  readme.json\r\n"
     ]
    }
   ],
   "source": [
    "# 查看当前挂载的数据集目录, 该目录下的变更重启环境后会自动还原\n",
    "# View dataset directory. This directory will be recovered automatically after resetting environment. \n",
    "!ls /home/aistudio/data"
   ]
  },
  {
   "cell_type": "code",
   "execution_count": null,
   "metadata": {
    "collapsed": false
   },
   "outputs": [],
   "source": [
    "#导入需要的包\n",
    "import os\n",
    "import zipfile\n",
    "import random\n",
    "import json\n",
    "import cv2\n",
    "import numpy as np\n",
    "from PIL import Image\n",
    "import paddle\n",
    "import paddle.fluid as fluid\n",
    "from paddle.fluid.dygraph import Linear\n",
    "import matplotlib.pyplot as plt"
   ]
  },
  {
   "cell_type": "markdown",
   "metadata": {
    "collapsed": false
   },
   "source": [
    "# 1、数据准备"
   ]
  },
  {
   "cell_type": "code",
   "execution_count": null,
   "metadata": {
    "collapsed": false
   },
   "outputs": [],
   "source": [
    "\n",
    "'''\n",
    "参数配置\n",
    "'''\n",
    "train_parameters = {\n",
    "    \"input_size\": [3, 64, 64],                           #输入图片的shape\n",
    "    \"class_dim\": -1,                                     #分类数\n",
    "    'augment_path' : '/home/aistudio/augment',           #数据增强图片目录\n",
    "    \"src_path\":\"data/data66363/archive_train.zip\",       #原始数据集路径\n",
    "    \"target_path\":\"/home/aistudio/data/dataset\",        #要解压的路径 \n",
    "    \"train_list_path\": \"./train_data.txt\",              #train_data.txt路径\n",
    "    \"eval_list_path\": \"./val_data.txt\",                  #eval_data.txt路径\n",
    "    \"label_dict\":{},                                    #标签字典\n",
    "    \"readme_path\": \"/home/aistudio/data/readme.json\",   #readme.json路径\n",
    "    \"num_epochs\": 20,                                    #训练轮数\n",
    "    \"train_batch_size\": 64,                             #批次的大小\n",
    "    \"learning_strategy\": {                              #优化函数相关的配置\n",
    "        \"lr\": 0.001                                     #超参数学习率\n",
    "    } \n",
    "}"
   ]
  },
  {
   "cell_type": "code",
   "execution_count": null,
   "metadata": {
    "collapsed": false
   },
   "outputs": [],
   "source": [
    "def unzip_data(src_path,target_path):\n",
    "\n",
    "    '''\n",
    "    解压原始数据集，将src_path路径下的zip包解压至data/dataset目录下\n",
    "    '''\n",
    "\n",
    "    if(not os.path.isdir(target_path)):    \n",
    "        z = zipfile.ZipFile(src_path, 'r')\n",
    "        z.extractall(path=target_path)\n",
    "        z.close()\n",
    "    else:\n",
    "        print(\"文件已解压\")\n"
   ]
  },
  {
   "cell_type": "code",
   "execution_count": null,
   "metadata": {
    "collapsed": false
   },
   "outputs": [],
   "source": [
    "\n",
    "def get_data_list(target_path,train_list_path,eval_list_path, augment_path):\n",
    "    '''\n",
    "    生成数据列表\n",
    "    '''\n",
    "    #存放所有类别的信息\n",
    "    class_detail = []\n",
    "    #获取所有类别保存的文件夹名称\n",
    "    data_list_path=target_path\n",
    "    class_dirs = os.listdir(data_list_path)\n",
    "    if '__MACOSX' in class_dirs:\n",
    "        class_dirs.remove('__MACOSX')\n",
    "    # #总的图像数量\n",
    "    all_class_images = 0\n",
    "    # #存放类别标签\n",
    "    class_label=0\n",
    "    # #存放类别数目\n",
    "    class_dim = 0\n",
    "    # #存储要写进eval.txt和train.txt中的内容\n",
    "    trainer_list=[]\n",
    "    eval_list=[]\n",
    "    #读取每个类别\n",
    "    for class_dir in class_dirs:\n",
    "        if class_dir != \".DS_Store\":\n",
    "            class_dim += 1\n",
    "            #每个类别的信息\n",
    "            class_detail_list = {}\n",
    "            eval_sum = 0\n",
    "            trainer_sum = 0\n",
    "            #统计每个类别有多少张图片\n",
    "            class_sum = 0\n",
    "            #获取类别路径 \n",
    "            path = os.path.join(data_list_path,class_dir)\n",
    "            # print(path)\n",
    "            # 获取所有图片\n",
    "            img_paths = os.listdir(path)\n",
    "            for img_path in img_paths:                                  # 遍历文件夹下的每个图片\n",
    "                if img_path =='.DS_Store':\n",
    "                    continue\n",
    "                name_path = os.path.join(path,img_path)                       # 每张图片的路径\n",
    "                if class_sum % 15 == 0:                                 # 每10张图片取一个做验证数据\n",
    "                    eval_sum += 1                                       # eval_sum为测试数据的数目\n",
    "                    eval_list.append(name_path + \"\\t%d\" % class_label + \"\\n\")\n",
    "                else:\n",
    "                    trainer_sum += 1 \n",
    "                    trainer_list.append(name_path + \"\\t%d\" % class_label + \"\\n\")#trainer_sum测试数据的数目\n",
    "                class_sum += 1                                          #每类图片的数目\n",
    "                all_class_images += 1                                   #所有类图片的数目 \n",
    "            # ----------------------------------数据增强----------------------------------\n",
    "            aug_path = os.path.join(augment_path, class_dir)\n",
    "            for img_path in os.listdir(aug_path):                                  # 遍历文件夹下的每个图片\n",
    "                name_path = os.path.join(aug_path,img_path)                       # 每张图片的路径\n",
    "                trainer_sum += 1 \n",
    "                trainer_list.append(name_path + \"\\t%d\" % class_label + \"\\n\")#trainer_sum测试数据的数目\n",
    "                all_class_images += 1                                   #所有类图片的数目\n",
    "            # ----------------------------------------------------------------------------\n",
    "            # 说明的json文件的class_detail数据\n",
    "            class_detail_list['class_name'] = class_dir             #类别名称\n",
    "            class_detail_list['class_label'] = class_label          #类别标签\n",
    "            class_detail_list['class_eval_images'] = eval_sum       #该类数据的测试集数目\n",
    "            class_detail_list['class_trainer_images'] = trainer_sum #该类数据的训练集数目\n",
    "            class_detail.append(class_detail_list)  \n",
    "            #初始化标签列表\n",
    "            train_parameters['label_dict'][str(class_label)] = class_dir\n",
    "            class_label += 1\n",
    "            \n",
    "    #初始化分类数\n",
    "    train_parameters['class_dim'] = class_dim\n",
    "    print(train_parameters)\n",
    "    #乱序  \n",
    "    random.shuffle(eval_list)\n",
    "    with open(eval_list_path, 'a') as f:\n",
    "        for eval_image in eval_list:\n",
    "            f.write(eval_image) \n",
    "    #乱序        \n",
    "    random.shuffle(trainer_list) \n",
    "    with open(train_list_path, 'a') as f2:\n",
    "        for train_image in trainer_list:\n",
    "            f2.write(train_image) \n",
    "\n",
    "    # 说明的json文件信息\n",
    "    readjson = {}\n",
    "    readjson['all_class_name'] = data_list_path                  #文件父目录\n",
    "    readjson['all_class_images'] = all_class_images\n",
    "    readjson['class_detail'] = class_detail\n",
    "    jsons = json.dumps(readjson, sort_keys=True, indent=4, separators=(',', ': '))\n",
    "    with open(train_parameters['readme_path'],'w') as f:\n",
    "        f.write(jsons)\n",
    "    print ('生成数据列表完成！')"
   ]
  },
  {
   "cell_type": "code",
   "execution_count": null,
   "metadata": {
    "collapsed": false
   },
   "outputs": [],
   "source": [
    "def data_reader(file_list):\n",
    "    '''\n",
    "    自定义data_reader\n",
    "    '''\n",
    "    def reader():\n",
    "        with open(file_list, 'r') as f:\n",
    "            lines = [line.strip() for line in f]\n",
    "            for line in lines:\n",
    "                img_path, lab = line.strip().split('\\t')\n",
    "                img = Image.open(img_path) \n",
    "                if img.mode != 'RGB': \n",
    "                    img = img.convert('RGB') \n",
    "                img = img.resize((64, 64), Image.BILINEAR)\n",
    "                img = np.array(img).astype('float32') \n",
    "                img = img.transpose((2, 0, 1))  # HWC to CHW \n",
    "                img = img/255                   # 像素值归一化 \n",
    "                yield img, int(lab) \n",
    "    return reader"
   ]
  },
  {
   "cell_type": "code",
   "execution_count": null,
   "metadata": {
    "collapsed": false
   },
   "outputs": [
    {
     "name": "stdout",
     "output_type": "stream",
     "text": [
      "Looking in indexes: https://pypi.tuna.tsinghua.edu.cn/simple\n",
      "Requirement already satisfied: Augmentor in /opt/conda/envs/python35-paddle120-env/lib/python3.7/site-packages (0.2.9)\n",
      "Requirement already satisfied: tqdm>=4.9.0 in /opt/conda/envs/python35-paddle120-env/lib/python3.7/site-packages (from Augmentor) (4.36.1)\n",
      "Requirement already satisfied: Pillow>=5.2.0 in /opt/conda/envs/python35-paddle120-env/lib/python3.7/site-packages (from Augmentor) (7.1.2)\n",
      "Requirement already satisfied: numpy>=1.11.0 in /opt/conda/envs/python35-paddle120-env/lib/python3.7/site-packages (from Augmentor) (1.16.4)\n",
      "Requirement already satisfied: future>=0.16.0 in /opt/conda/envs/python35-paddle120-env/lib/python3.7/site-packages (from Augmentor) (0.18.0)\n",
      "\u001b[33mWARNING: You are using pip version 21.3.1; however, version 22.0.4 is available.\n",
      "You should consider upgrading via the '/opt/conda/envs/python35-paddle120-env/bin/python -m pip install --upgrade pip' command.\u001b[0m\n"
     ]
    }
   ],
   "source": [
    "!pip install Augmentor"
   ]
  },
  {
   "cell_type": "code",
   "execution_count": null,
   "metadata": {
    "collapsed": false
   },
   "outputs": [
    {
     "name": "stdout",
     "output_type": "stream",
     "text": [
      "文件已解压\n"
     ]
    }
   ],
   "source": [
    "\n",
    "\n",
    "'''\n",
    "参数初始化\n",
    "'''\n",
    "src_path=train_parameters['src_path']\n",
    "target_path=train_parameters['target_path']\n",
    "train_list_path=train_parameters['train_list_path']\n",
    "eval_list_path=train_parameters['eval_list_path']\n",
    "batch_size=train_parameters['train_batch_size']\n",
    "augment_path = train_parameters['augment_path']\n",
    "'''\n",
    "解压原始数据到指定路径\n",
    "'''\n",
    "unzip_data(src_path,target_path)\n"
   ]
  },
  {
   "cell_type": "code",
   "execution_count": null,
   "metadata": {
    "collapsed": false
   },
   "outputs": [],
   "source": [
    "def proc_img(src):\n",
    "    for root, dirs, files in os.walk(src):\n",
    "        if '__MACOSX' in root:continue\n",
    "        for file in files:            \n",
    "            src=os.path.join(root,file)\n",
    "            img=Image.open(src)\n",
    "            if img.mode != 'RGB': \n",
    "                    img = img.convert('RGB') \n",
    "                    img.save(src)            \n",
    "\n",
    "\n",
    "if __name__=='__main__':\n",
    "    proc_img(r\"data/dataset\")\n"
   ]
  },
  {
   "cell_type": "code",
   "execution_count": null,
   "metadata": {
    "collapsed": false
   },
   "outputs": [
    {
     "name": "stdout",
     "output_type": "stream",
     "text": [
      "Looking in indexes: https://pypi.tuna.tsinghua.edu.cn/simple\n",
      "Requirement already satisfied: Augmentor in /opt/conda/envs/python35-paddle120-env/lib/python3.7/site-packages (0.2.9)\n",
      "Requirement already satisfied: tqdm>=4.9.0 in /opt/conda/envs/python35-paddle120-env/lib/python3.7/site-packages (from Augmentor) (4.36.1)\n",
      "Requirement already satisfied: Pillow>=5.2.0 in /opt/conda/envs/python35-paddle120-env/lib/python3.7/site-packages (from Augmentor) (7.1.2)\n",
      "Requirement already satisfied: numpy>=1.11.0 in /opt/conda/envs/python35-paddle120-env/lib/python3.7/site-packages (from Augmentor) (1.16.4)\n",
      "Requirement already satisfied: future>=0.16.0 in /opt/conda/envs/python35-paddle120-env/lib/python3.7/site-packages (from Augmentor) (0.18.0)\n",
      "\u001b[33mWARNING: You are using pip version 21.3.1; however, version 22.0.4 is available.\n",
      "You should consider upgrading via the '/opt/conda/envs/python35-paddle120-env/bin/python -m pip install --upgrade pip' command.\u001b[0m\n"
     ]
    }
   ],
   "source": [
    "!pip install Augmentor"
   ]
  },
  {
   "cell_type": "code",
   "execution_count": null,
   "metadata": {
    "collapsed": false
   },
   "outputs": [
    {
     "name": "stderr",
     "output_type": "stream",
     "text": [
      "Processing labradorite_24.jpg:   1%|          | 8/960 [00:00<00:17, 53.00 Samples/s]"
     ]
    },
    {
     "name": "stdout",
     "output_type": "stream",
     "text": [
      "data/dataset/Labradorite [] ['labradorite_6.jpg', 'labradorite_12.jpg', 'labradorite_14.jpg', 'labradorite_2.jpg', 'labradorite_27.jpg', 'labradorite_0.jpg', 'labradorite_18.jpg', 'labradorite_33.jpg', 'labradorite_8.jpg', 'labradorite_16.jpg', 'labradorite_26.jpg', 'labradorite_22.jpg', 'labradorite_40.jpg', 'labradorite_1.jpg', 'labradorite_11.jpg', 'labradorite_34.jpg', 'labradorite_17.jpg', 'labradorite_25.jpg', 'labradorite_35.jpg', 'labradorite_29.jpg', 'labradorite_43.jpg', 'labradorite_31.jpg', 'labradorite_38.jpg', 'labradorite_7.jpg', 'labradorite_13.jpg', 'labradorite_20.jpg', 'labradorite_19.jpg', 'labradorite_36.jpg', 'labradorite_21.jpg', 'labradorite_30.jpg', 'labradorite_24.jpg', 'labradorite_10.jpg', 'labradorite_28.jpg', 'labradorite_37.jpg', 'labradorite_32.jpg', 'labradorite_9.jpg', 'labradorite_15.jpg', 'labradorite_39.jpg', 'labradorite_23.jpg', 'labradorite_5.jpg'] 1\n",
      "data/dataset/Jade [] ['jade_6.jpg', 'jade_18.jpg', 'jade_27.jpg', 'jade_11.jpg', 'jade_7.jpg', 'jade_26.jpg', 'jade_2.jpg', 'jade_31.jpg', 'jade_0.jpg', 'jade_14.jpg', 'jade_22.jpg', 'jade_29.jpg', 'jade_15.jpg', 'jade_30.jpg', 'jade_4.jpg', 'jade_24.jpg', 'jade_13.jpg', 'jade_19.jpg', 'jade_12.jpg', 'jade_16.jpg', 'jade_28.jpg', 'jade_10.jpg', 'jade_1.jpg', 'jade_20.jpg', 'jade_17.jpg', 'jade_5.jpg', 'jade_21.jpg', 'jade_23.jpg'] 1\n",
      "data/dataset/Danburite [] ['danburite_25.jpg', 'danburite_17.jpg', 'danburite_5.jpg', 'danburite_32.jpg', 'danburite_6.jpg', 'danburite_26.jpg', 'danburite_11.jpg', 'danburite_2.jpg', 'danburite_21.jpg', 'danburite_22.jpg', 'danburite_23.jpg', 'danburite_35.jpg', 'danburite_30.jpg', 'danburite_1.jpg', 'danburite_33.jpg', 'danburite_7.jpg', 'danburite_0.jpg', 'danburite_9.jpg', 'danburite_24.jpg', 'danburite_31.jpg', 'danburite_20.jpg', 'danburite_14.jpg', 'danburite_10.jpg', 'danburite_15.jpg', 'danburite_12.jpg', 'danburite_16.jpg', 'danburite_29.jpg', 'danburite_27.jpg', 'danburite_13.jpg', 'danburite_4.jpg', 'danburite_19.jpg', 'danburite_34.jpg'] 1\n",
      "data/dataset/Iolite [] ['iolite_35.jpg', 'iolite_12.jpg', 'iolite_7.jpg', 'iolite_25.jpg', 'iolite_13.jpg', 'iolite_34.jpg', 'iolite_15.jpg', 'iolite_17.jpg', 'iolite_30.jpg', 'iolite_9.jpg', 'iolite_29.jpg', 'iolite_32.jpg', 'iolite_0.jpg', 'iolite_20.jpg', 'iolite_6.jpg', 'iolite_10.jpg', 'iolite_31.jpg', 'iolite_4.jpg', 'iolite_14.jpg', 'iolite_2.jpg', 'iolite_19.jpg', 'iolite_33.jpg', 'iolite_27.jpg', 'iolite_21.jpg', 'iolite_5.jpg', 'iolite_16.jpg', 'iolite_24.jpg', 'iolite_26.jpg', 'iolite_22.jpg', 'iolite_11.jpg', 'iolite_1.jpg', 'iolite_23.jpg'] 1\n",
      "data/dataset/Tanzanite [] ['tanzanite_13.jpg', 'tanzanite_11.jpg', 'tanzanite_20.jpg', 'tanzanite_23.jpg', 'tanzanite_36.jpg', 'tanzanite_27.jpg', 'tanzanite_14.jpg', 'tanzanite_21.jpg', 'tanzanite_31.jpg', 'tanzanite_2.jpg', 'tanzanite_34.jpg', 'tanzanite_10.jpg', 'tanzanite_32.jpg', 'tanzanite_7.jpg', 'tanzanite_39.jpg', 'tanzanite_12.jpg', 'tanzanite_8.jpg', 'tanzanite_17.jpg', 'tanzanite_0.jpg', 'tanzanite_24.jpg', 'tanzanite_22.jpg', 'tanzanite_38.jpg', 'tanzanite_15.jpg', 'tanzanite_5.jpg', 'tanzanite_30.jpg', 'tanzanite_35.jpg', 'tanzanite_16.jpg', 'tanzanite_26.jpg', 'tanzanite_19.jpg', 'tanzanite_25.jpg', 'tanzanite_37.jpg', 'tanzanite_18.jpg', 'tanzanite_1.jpg', 'tanzanite_33.jpg', 'tanzanite_28.jpg', 'tanzanite_29.jpg'] 1\n",
      "data/dataset/Garnet Red [] ['garnet red_38.jpg', 'garnet red_31.jpg', 'garnet red_24.jpg', 'garnet red_18.jpg', 'garnet red_23.jpg', 'garnet red_32.jpg', 'garnet red_13.jpg', 'garnet red_33.jpg', 'garnet red_34.jpg', 'garnet red_2.jpg', 'garnet red_16.jpg', 'garnet red_17.jpg', 'garnet red_19.jpg', 'garnet red_28.jpg', 'garnet red_25.jpg', 'garnet red_1.jpg', 'garnet red_21.jpg', 'garnet red_0.jpg', 'garnet red_8.jpg', 'garnet red_35.jpg', 'garnet red_29.jpg', 'garnet red_7.jpg', 'garnet red_12.jpg', 'garnet red_11.jpg', 'garnet red_5.jpg', 'garnet red_22.jpg', 'garnet red_10.jpg', 'garnet red_36.jpg', 'garnet red_15.jpg', 'garnet red_26.jpg', 'garnet red_30.jpg', 'garnet red_37.jpg', 'garnet red_14.jpg', 'garnet red_27.jpg', 'garnet red_39.jpg', 'garnet red_20.jpg'] 1\n",
      "data/dataset/Diamond [] ['diamond_30.jpg', 'diamond_29.jpg', 'diamond_23.jpg', 'diamond_32.jpg', 'diamond_16.jpg', 'diamond_20.jpg', 'diamond_26.jpg', 'diamond_25.jpg', 'diamond_10.jpg', 'diamond_1.jpg', 'diamond_22.jpg', 'diamond_6.jpg', 'diamond_34.jpg', 'diamond_5.jpg', 'diamond_0.jpg', 'diamond_27.jpg', 'diamond_15.jpg', 'diamond_33.jpg', 'diamond_14.jpg', 'diamond_19.jpg', 'diamond_24.jpg', 'diamond_21.jpg', 'diamond_31.jpg', 'diamond_13.jpg', 'diamond_2.jpg', 'diamond_12.jpg', 'diamond_8.jpg', 'diamond_4.jpg', 'diamond_11.jpg', 'diamond_17.jpg', 'diamond_7.jpg'] 1\n",
      "data/dataset/Carnelian [] ['carnelian_20.jpg', 'carnelian_29.jpg', 'carnelian_23.jpg', 'carnelian_19.jpg', 'carnelian_11.jpg', 'carnelian_35.jpg', 'carnelian_15.jpg', 'carnelian_14.jpg', 'carnelian_4.jpg', 'carnelian_17.jpg', 'carnelian_0.jpg', 'carnelian_27.jpg', 'carnelian_12.jpg', 'carnelian_1.jpg', 'carnelian_25.jpg', 'carnelian_6.jpg', 'carnelian_16.jpg', 'carnelian_26.jpg', 'carnelian_10.jpg', 'carnelian_33.jpg', 'carnelian_13.jpg', 'carnelian_24.jpg', 'carnelian_2.jpg', 'carnelian_31.jpg', 'carnelian_34.jpg', 'carnelian_8.jpg', 'carnelian_36.jpg', 'carnelian_21.jpg', 'carnelian_32.jpg', 'carnelian_5.jpg', 'carnelian_30.jpg', 'carnelian_9.jpg', 'carnelian_22.jpg'] 1\n",
      "data/dataset/Beryl Golden [] ['beryl golden_31.jpg', 'beryl golden_23.jpg', 'beryl golden_19.jpg', 'beryl golden_29.jpg', 'beryl golden_34.jpg', 'beryl golden_24.jpg', 'beryl golden_14.jpg', 'beryl golden_8.jpg', 'beryl golden_13.jpg', 'beryl golden_39.jpg', 'beryl golden_18.jpg', 'beryl golden_33.jpg', 'beryl golden_15.jpg', 'beryl golden_16.jpg', 'beryl golden_0.jpg', 'beryl golden_1.jpg', 'beryl golden_21.jpg', 'beryl golden_32.jpg', 'beryl golden_10.jpg', 'beryl golden_30.jpg', 'beryl golden_20.jpg', 'beryl golden_36.jpg', 'beryl golden_5.jpg', 'beryl golden_7.jpg', 'beryl golden_37.jpg', 'beryl golden_11.jpg', 'beryl golden_2.jpg', 'beryl golden_25.jpg', 'beryl golden_35.jpg', 'beryl golden_26.jpg', 'beryl golden_38.jpg', 'beryl golden_22.jpg', 'beryl golden_28.jpg', 'beryl golden_17.jpg', 'beryl golden_12.jpg', 'beryl golden_27.jpg'] 1\n",
      "data/dataset/Onyx Black [] ['onyx black_19.jpg', 'onyx black_2.jpg', 'onyx black_13.jpg', 'onyx black_5.jpg', 'onyx black_1.jpg', 'onyx black_29.jpg', 'onyx black_27.jpg', 'onyx black_12.jpg', 'onyx black_11.jpg', 'onyx black_22.jpg', 'onyx black_4.jpg', 'onyx black_23.jpg', 'onyx black_6.jpg', 'onyx black_18.jpg', 'onyx black_14.jpg', 'onyx black_0.jpg', 'onyx black_31.jpg', 'onyx black_30.jpg', 'onyx black_16.jpg', 'onyx black_24.jpg', 'onyx black_21.jpg', 'onyx black_26.jpg', 'onyx black_28.jpg', 'onyx black_15.jpg', 'onyx black_10.jpg', 'onyx black_17.jpg', 'onyx black_20.jpg', 'onyx black_7.jpg'] 1\n",
      "data/dataset/Emerald [] ['emerald_2.jpg', 'emerald_13.jpg', 'emerald_0.jpg', 'emerald_21.jpg', 'emerald_22.jpg', 'emerald_24.jpg', 'emerald_31.jpg', 'emerald_14.jpg', 'emerald_40.jpg', 'emerald_6.jpg', 'emerald_38.jpg', 'emerald_1.jpg', 'emerald_17.jpg', 'emerald_29.jpg', 'emerald_35.jpg', 'emerald_12.jpg', 'emerald_28.jpg', 'emerald_25.jpg', 'emerald_32.jpg', 'emerald_11.jpg', 'emerald_30.jpg', 'emerald_27.jpg', 'emerald_20.jpg', 'emerald_23.jpg', 'emerald_34.jpg', 'emerald_33.jpg', 'emerald_19.jpg', 'emerald_9.jpg', 'emerald_39.jpg', 'emerald_10.jpg', 'emerald_37.jpg', 'emerald_7.jpg', 'emerald_15.jpg', 'emerald_16.jpg', 'emerald_26.jpg', 'emerald_36.jpg'] 1\n",
      "data/dataset/Quartz Beer [] ['quartz beer_32.jpg', 'quartz beer_0.jpg', 'quartz beer_12.jpg', 'quartz beer_25.jpg', 'quartz beer_17.jpg', 'quartz beer_30.jpg', 'quartz beer_8.jpg', 'quartz beer_6.jpg', 'quartz beer_27.jpg', 'quartz beer_38.jpg', 'quartz beer_22.jpg', 'quartz beer_26.jpg', 'quartz beer_23.jpg', 'quartz beer_13.jpg', 'quartz beer_33.jpg', 'quartz beer_10.jpg', 'quartz beer_35.jpg', 'quartz beer_1.jpg', 'quartz beer_36.jpg', 'quartz beer_20.jpg', 'quartz beer_21.jpg', 'quartz beer_4.jpg', 'quartz beer_2.jpg', 'quartz beer_9.jpg', 'quartz beer_31.jpg', 'quartz beer_15.jpg', 'quartz beer_29.jpg', 'quartz beer_37.jpg', 'quartz beer_16.jpg', 'quartz beer_11.jpg', 'quartz beer_34.jpg', 'quartz beer_14.jpg', 'quartz beer_28.jpg', 'quartz beer_24.jpg', 'quartz beer_19.jpg'] 1\n",
      "data/dataset/Alexandrite [] ['alexandrite_35.jpg', 'alexandrite_34.jpg', 'alexandrite_10.jpg', 'alexandrite_32.jpg', 'alexandrite_33.jpg', 'alexandrite_4.jpg', 'alexandrite_37.jpg', 'alexandrite_9.jpg', 'alexandrite_14.jpg', 'alexandrite_15.jpg', 'alexandrite_30.jpg', 'alexandrite_26.jpg', 'alexandrite_17.jpg', 'alexandrite_29.jpg', 'alexandrite_24.jpg', 'alexandrite_13.jpg', 'alexandrite_22.jpg', 'alexandrite_25.jpg', 'alexandrite_19.jpg', 'alexandrite_36.jpg', 'alexandrite_11.jpg', 'alexandrite_7.jpg', 'alexandrite_21.jpg', 'alexandrite_20.jpg', 'alexandrite_27.jpg', 'alexandrite_12.jpg', 'alexandrite_0.jpg', 'alexandrite_2.jpg', 'alexandrite_23.jpg', 'alexandrite_1.jpg', 'alexandrite_5.jpg', 'alexandrite_16.jpg', 'alexandrite_31.jpg', 'alexandrite_8.jpg'] 1\n",
      "data/dataset/Rhodochrosite [] ['rhodochrosite_16.jpg', 'rhodochrosite_14.jpg', 'rhodochrosite_28.jpg', 'rhodochrosite_17.jpg', 'rhodochrosite_12.jpg', 'rhodochrosite_1.jpg', 'rhodochrosite_5.jpg', 'rhodochrosite_29.jpg', 'rhodochrosite_20.jpg', 'rhodochrosite_7.jpg', 'rhodochrosite_13.jpg', 'rhodochrosite_22.jpg', 'rhodochrosite_6.jpg', 'rhodochrosite_4.jpg', 'rhodochrosite_24.jpg', 'rhodochrosite_8.jpg', 'rhodochrosite_27.jpg', 'rhodochrosite_9.jpg', 'rhodochrosite_15.jpg', 'rhodochrosite_11.jpg', 'rhodochrosite_25.jpg', 'rhodochrosite_10.jpg', 'rhodochrosite_19.jpg', 'rhodochrosite_21.jpg', 'rhodochrosite_23.jpg', 'rhodochrosite_0.jpg', 'rhodochrosite_26.jpg', 'rhodochrosite_31.jpg', 'rhodochrosite_2.jpg'] 1\n",
      "data/dataset/Sapphire Blue [] ['sapphire blue_0.jpg', 'sapphire blue_27.jpg', 'sapphire blue_5.jpg', 'sapphire blue_14.jpg', 'sapphire blue_17.jpg', 'sapphire blue_12.jpg', 'sapphire blue_20.jpg', 'sapphire blue_34.jpg', 'sapphire blue_9.jpg', 'sapphire blue_16.jpg', 'sapphire blue_7.jpg', 'sapphire blue_25.jpg', 'sapphire blue_23.jpg', 'sapphire blue_24.jpg', 'sapphire blue_1.jpg', 'sapphire blue_35.jpg', 'sapphire blue_30.jpg', 'sapphire blue_15.jpg', 'sapphire blue_32.jpg', 'sapphire blue_26.jpg', 'sapphire blue_36.jpg', 'sapphire blue_8.jpg', 'sapphire blue_22.jpg', 'sapphire blue_13.jpg', 'sapphire blue_31.jpg', 'sapphire blue_21.jpg', 'sapphire blue_19.jpg', 'sapphire blue_29.jpg', 'sapphire blue_37.jpg', 'sapphire blue_11.jpg', 'sapphire blue_4.jpg', 'sapphire blue_2.jpg', 'sapphire blue_10.jpg', 'sapphire blue_33.jpg'] 1\n",
      "data/dataset/Zircon [] ['zircon_1.jpg', 'zircon_9.jpg', 'zircon_2.jpg', 'zircon_23.jpg', 'zircon_27.jpg', 'zircon_6.jpg', 'zircon_30.jpg', 'zircon_21.jpg', 'zircon_8.jpg', 'zircon_16.jpg', 'zircon_12.jpg', 'zircon_22.jpg', 'zircon_25.jpg', 'zircon_24.jpg', 'zircon_35.jpg', 'zircon_4.jpg', 'zircon_20.jpg', 'zircon_19.jpg', 'zircon_13.jpg', 'zircon_5.jpg', 'zircon_15.jpg', 'zircon_29.jpg', 'zircon_36.jpg', 'zircon_0.jpg', 'zircon_14.jpg', 'zircon_17.jpg', 'zircon_31.jpg', 'zircon_32.jpg', 'zircon_10.jpg', 'zircon_26.jpg', 'zircon_34.jpg', 'zircon_33.jpg', 'zircon_11.jpg'] 1\n",
      "data/dataset/Variscite [] ['variscite_23.jpg', 'variscite_0.jpg', 'variscite_14.jpg', 'variscite_25.jpg', 'variscite_29.jpg', 'variscite_8.jpg', 'variscite_20.jpg', 'variscite_12.jpg', 'variscite_9.jpg', 'variscite_32.jpg', 'variscite_27.jpg', 'variscite_7.jpg', 'variscite_15.jpg', 'variscite_16.jpg', 'variscite_11.jpg', 'variscite_22.jpg', 'variscite_31.jpg', 'variscite_21.jpg', 'variscite_5.jpg', 'variscite_33.jpg', 'variscite_17.jpg', 'variscite_1.jpg', 'variscite_26.jpg', 'variscite_10.jpg', 'variscite_6.jpg', 'variscite_19.jpg', 'variscite_4.jpg', 'variscite_13.jpg', 'variscite_24.jpg', 'variscite_30.jpg'] 1\n",
      "data/dataset/Fluorite [] ['fluorite_15.jpg', 'fluorite_0.jpg', 'fluorite_34.jpg', 'fluorite_6.jpg', 'fluorite_16.jpg', 'fluorite_11.jpg', 'fluorite_29.jpg', 'fluorite_30.jpg', 'fluorite_21.jpg', 'fluorite_27.jpg', 'fluorite_24.jpg', 'fluorite_7.jpg', 'fluorite_23.jpg', 'fluorite_26.jpg', 'fluorite_9.jpg', 'fluorite_5.jpg', 'fluorite_35.jpg', 'fluorite_22.jpg', 'fluorite_17.jpg', 'fluorite_4.jpg', 'fluorite_20.jpg', 'fluorite_31.jpg', 'fluorite_32.jpg', 'fluorite_2.jpg', 'fluorite_33.jpg', 'fluorite_10.jpg', 'fluorite_19.jpg', 'fluorite_13.jpg', 'fluorite_1.jpg', 'fluorite_14.jpg', 'fluorite_25.jpg', 'fluorite_12.jpg'] 1\n",
      "data/dataset/Cats Eye [] ['cats eye_22.jpg', 'cats eye_10.jpg', 'cats eye_16.jpg', 'cats eye_25.jpg', 'cats eye_27.jpg', 'cats eye_13.jpg', 'cats eye_2.jpg', 'cats eye_29.jpg', 'cats eye_0.jpg', 'cats eye_11.jpg', 'cats eye_17.jpg', 'cats eye_21.jpg', 'cats eye_31.jpg', 'cats eye_20.jpg', 'cats eye_26.jpg', 'cats eye_30.jpg', 'cats eye_7.jpg', 'cats eye_5.jpg', 'cats eye_23.jpg', 'cats eye_15.jpg', 'cats eye_4.jpg', 'cats eye_33.jpg', 'cats eye_14.jpg', 'cats eye_32.jpg', 'cats eye_24.jpg', 'cats eye_8.jpg', 'cats eye_19.jpg', 'cats eye_34.jpg', 'cats eye_1.jpg', 'cats eye_6.jpg', 'cats eye_12.jpg'] 1\n",
      "data/dataset/Pearl [] ['pearl_13.jpg', 'pearl_35.jpg', 'pearl_33.jpg', 'pearl_11.jpg', 'pearl_15.jpg', 'pearl_24.jpg', 'pearl_30.jpg', 'pearl_27.jpg', 'pearl_26.jpg', 'pearl_21.jpg', 'pearl_8.jpg', 'pearl_14.jpg', 'pearl_5.jpg', 'pearl_22.jpg', 'pearl_34.jpg', 'pearl_29.jpg', 'pearl_12.jpg', 'pearl_0.jpg', 'pearl_10.jpg', 'pearl_2.jpg', 'pearl_19.jpg', 'pearl_23.jpg', 'pearl_6.jpg', 'pearl_17.jpg', 'pearl_32.jpg', 'pearl_36.jpg', 'pearl_20.jpg', 'pearl_25.jpg', 'pearl_4.jpg', 'pearl_31.jpg', 'pearl_1.jpg', 'pearl_9.jpg', 'pearl_16.jpg'] 1\n",
      "data/dataset/Kunzite [] ['kunzite_20.jpg', 'kunzite_21.jpg', 'kunzite_5.jpg', 'kunzite_0.jpg', 'kunzite_11.jpg', 'kunzite_10.jpg', 'kunzite_34.jpg', 'kunzite_6.jpg', 'kunzite_27.jpg', 'kunzite_4.jpg', 'kunzite_23.jpg', 'kunzite_15.jpg', 'kunzite_19.jpg', 'kunzite_33.jpg', 'kunzite_17.jpg', 'kunzite_29.jpg', 'kunzite_2.jpg', 'kunzite_26.jpg', 'kunzite_30.jpg', 'kunzite_32.jpg', 'kunzite_25.jpg', 'kunzite_1.jpg', 'kunzite_24.jpg', 'kunzite_13.jpg', 'kunzite_12.jpg', 'kunzite_9.jpg', 'kunzite_31.jpg', 'kunzite_16.jpg', 'kunzite_7.jpg', 'kunzite_35.jpg', 'kunzite_14.jpg', 'kunzite_22.jpg'] 1\n",
      "data/dataset/Almandine [] ['almandine_23.jpg', 'almandine_22.jpg', 'almandine_15.jpg', 'almandine_12.jpg', 'almandine_0.jpg', 'almandine_10.jpg', 'almandine_29.jpg', 'almandine_2.jpg', 'almandine_14.jpg', 'almandine_20.jpg', 'almandine_19.jpg', 'almandine_27.jpg', 'almandine_21.jpg', 'almandine_33.jpg', 'almandine_17.jpg', 'almandine_7.jpg', 'almandine_1.jpg', 'almandine_25.jpg', 'almandine_31.jpg', 'almandine_24.jpg', 'almandine_26.jpg', 'almandine_32.jpg', 'almandine_16.jpg', 'almandine_5.jpg', 'almandine_11.jpg', 'almandine_34.jpg', 'almandine_30.jpg', 'almandine_6.jpg', 'almandine_8.jpg', 'almandine_13.jpg', 'almandine_4.jpg'] 1\n",
      "data/dataset/Benitoite [] ['benitoite_19.jpg', 'benitoite_32.jpg', 'benitoite_12.jpg', 'benitoite_30.jpg', 'benitoite_4.jpg', 'benitoite_31.jpg', 'benitoite_24.jpg', 'benitoite_5.jpg', 'benitoite_21.jpg', 'benitoite_17.jpg', 'benitoite_10.jpg', 'benitoite_8.jpg', 'benitoite_20.jpg', 'benitoite_22.jpg', 'benitoite_23.jpg', 'benitoite_29.jpg', 'benitoite_14.jpg', 'benitoite_2.jpg', 'benitoite_6.jpg', 'benitoite_26.jpg', 'benitoite_25.jpg', 'benitoite_34.jpg', 'benitoite_33.jpg', 'benitoite_27.jpg', 'benitoite_11.jpg', 'benitoite_13.jpg', 'benitoite_16.jpg', 'benitoite_15.jpg', 'benitoite_1.jpg', 'benitoite_7.jpg', 'benitoite_0.jpg'] 1\n",
      "data/dataset/Hessonite [] ['hessonite_8.jpg', 'hessonite_33.jpg', 'hessonite_14.jpg', 'hessonite_0.jpg', 'hessonite_30.jpg', 'hessonite_17.jpg', 'hessonite_20.jpg', 'hessonite_32.jpg', 'hessonite_1.jpg', 'hessonite_16.jpg', 'hessonite_11.jpg', 'hessonite_6.jpg', 'hessonite_27.jpg', 'hessonite_19.jpg', 'hessonite_24.jpg', 'hessonite_31.jpg', 'hessonite_10.jpg', 'hessonite_4.jpg', 'hessonite_7.jpg', 'hessonite_21.jpg', 'hessonite_29.jpg', 'hessonite_22.jpg', 'hessonite_15.jpg', 'hessonite_13.jpg', 'hessonite_9.jpg', 'hessonite_25.jpg', 'hessonite_23.jpg', 'hessonite_12.jpg', 'hessonite_26.jpg', 'hessonite_5.jpg'] 1\n",
      "data/dataset/Malachite [] ['malachite_11.jpg', 'malachite_12.jpg', 'malachite_24.jpg', 'malachite_5.jpg', 'malachite_17.jpg', 'malachite_28.jpg', 'malachite_4.jpg', 'malachite_22.jpg', 'malachite_30.jpg', 'malachite_14.jpg', 'malachite_2.jpg', 'malachite_27.jpg', 'malachite_20.jpg', 'malachite_31.jpg', 'malachite_10.jpg', 'malachite_1.jpg', 'malachite_7.jpg', 'malachite_16.jpg', 'malachite_23.jpg', 'malachite_26.jpg', 'malachite_15.jpg', 'malachite_13.jpg', 'malachite_19.jpg', 'malachite_29.jpg', 'malachite_0.jpg', 'malachite_18.jpg', 'malachite_6.jpg', 'malachite_21.jpg'] 1\n",
      "data/dataset/__MACOSX/Labradorite [] ['._labradorite_21.jpg', '._labradorite_18.jpg', '._labradorite_36.jpg', '._labradorite_1.jpg', '._labradorite_8.jpg', '._labradorite_0.jpg', '._labradorite_34.jpg', '._labradorite_22.jpg', '._labradorite_39.jpg', '._labradorite_28.jpg', '._labradorite_9.jpg', '._labradorite_26.jpg', '._labradorite_23.jpg', '._labradorite_33.jpg', '._labradorite_24.jpg', '._labradorite_37.jpg', '._labradorite_25.jpg', '._labradorite_11.jpg', '._labradorite_13.jpg', '._labradorite_17.jpg', '._labradorite_38.jpg', '._labradorite_12.jpg', '._labradorite_30.jpg', '._labradorite_2.jpg', '._labradorite_6.jpg', '._labradorite_27.jpg', '._labradorite_43.jpg', '._labradorite_16.jpg', '._labradorite_40.jpg', '._labradorite_29.jpg', '._labradorite_14.jpg', '._labradorite_31.jpg', '._labradorite_10.jpg', '._labradorite_7.jpg', '._labradorite_19.jpg', '._labradorite_20.jpg', '._labradorite_32.jpg', '._labradorite_15.jpg', '._labradorite_5.jpg', '._labradorite_35.jpg'] 1\n",
      "data/dataset/__MACOSX/Jade [] ['._jade_26.jpg', '._jade_31.jpg', '._jade_27.jpg', '._jade_29.jpg', '._jade_4.jpg', '._jade_21.jpg', '._jade_2.jpg', '._jade_16.jpg', '._jade_10.jpg', '._jade_15.jpg', '._jade_22.jpg', '._jade_19.jpg', '._jade_13.jpg', '._jade_5.jpg', '._jade_11.jpg', '._jade_6.jpg', '._jade_20.jpg', '._jade_0.jpg', '._jade_12.jpg', '._jade_23.jpg', '._jade_14.jpg', '._jade_30.jpg', '._jade_28.jpg', '._jade_17.jpg', '._jade_1.jpg', '._jade_18.jpg', '._jade_7.jpg', '._jade_24.jpg'] 1\n",
      "data/dataset/__MACOSX/Danburite [] ['._danburite_23.jpg', '._danburite_30.jpg', '._danburite_12.jpg', '._danburite_26.jpg', '._danburite_5.jpg', '._danburite_13.jpg', '._danburite_1.jpg', '._danburite_15.jpg', '._danburite_17.jpg', '._danburite_11.jpg', '._danburite_6.jpg', '._danburite_35.jpg', '._danburite_24.jpg', '._danburite_27.jpg', '._danburite_0.jpg', '._danburite_14.jpg', '._danburite_25.jpg', '._danburite_31.jpg', '._danburite_4.jpg', '._danburite_7.jpg', '._danburite_20.jpg', '._danburite_34.jpg', '._danburite_16.jpg', '._danburite_32.jpg', '._danburite_33.jpg', '._danburite_10.jpg', '._danburite_29.jpg', '._danburite_21.jpg', '._danburite_9.jpg', '._danburite_2.jpg', '._danburite_19.jpg', '._danburite_22.jpg'] 1\n",
      "data/dataset/__MACOSX/Iolite [] ['._iolite_33.jpg', '._iolite_21.jpg', '._iolite_23.jpg', '._iolite_12.jpg', '._iolite_13.jpg', '._iolite_29.jpg', '._iolite_32.jpg', '._iolite_4.jpg', '._iolite_17.jpg', '._iolite_6.jpg', '._iolite_30.jpg', '._iolite_10.jpg', '._iolite_11.jpg', '._iolite_5.jpg', '._iolite_0.jpg', '._iolite_34.jpg', '._iolite_2.jpg', '._iolite_14.jpg', '._iolite_20.jpg', '._iolite_25.jpg', '._iolite_15.jpg', '._iolite_1.jpg', '._iolite_7.jpg', '._iolite_16.jpg', '._iolite_22.jpg', '._iolite_35.jpg', '._iolite_9.jpg', '._iolite_26.jpg', '._iolite_27.jpg', '._iolite_24.jpg', '._iolite_31.jpg', '._iolite_19.jpg'] 1\n",
      "data/dataset/__MACOSX/Tanzanite [] ['._tanzanite_24.jpg', '._tanzanite_36.jpg', '._tanzanite_17.jpg', '._tanzanite_15.jpg', '._tanzanite_12.jpg', '._tanzanite_25.jpg', '._tanzanite_2.jpg', '._tanzanite_11.jpg', '._tanzanite_8.jpg', '._tanzanite_28.jpg', '._tanzanite_14.jpg', '._tanzanite_23.jpg', '._tanzanite_19.jpg', '._tanzanite_33.jpg', '._tanzanite_10.jpg', '._tanzanite_20.jpg', '._tanzanite_35.jpg', '._tanzanite_29.jpg', '._tanzanite_7.jpg', '._tanzanite_32.jpg', '._tanzanite_18.jpg', '._tanzanite_30.jpg', '._tanzanite_38.jpg', '._tanzanite_26.jpg', '._tanzanite_21.jpg', '._tanzanite_1.jpg', '._tanzanite_31.jpg', '._tanzanite_5.jpg', '._tanzanite_37.jpg', '._tanzanite_39.jpg', '._tanzanite_27.jpg', '._tanzanite_13.jpg', '._tanzanite_34.jpg', '._tanzanite_16.jpg', '._tanzanite_0.jpg', '._tanzanite_22.jpg'] 1\n",
      "data/dataset/__MACOSX/Garnet Red [] ['._garnet red_24.jpg', '._garnet red_25.jpg', '._garnet red_7.jpg', '._garnet red_0.jpg', '._garnet red_14.jpg', '._garnet red_29.jpg', '._garnet red_26.jpg', '._garnet red_28.jpg', '._garnet red_23.jpg', '._garnet red_32.jpg', '._garnet red_2.jpg', '._garnet red_36.jpg', '._garnet red_15.jpg', '._garnet red_18.jpg', '._garnet red_16.jpg', '._garnet red_20.jpg', '._garnet red_11.jpg', '._garnet red_38.jpg', '._garnet red_21.jpg', '._garnet red_8.jpg', '._garnet red_10.jpg', '._garnet red_33.jpg', '._garnet red_27.jpg', '._garnet red_39.jpg', '._garnet red_34.jpg', '._garnet red_13.jpg', '._garnet red_22.jpg', '._garnet red_31.jpg', '._garnet red_37.jpg', '._garnet red_35.jpg', '._garnet red_5.jpg', '._garnet red_17.jpg', '._garnet red_30.jpg', '._garnet red_19.jpg', '._garnet red_1.jpg', '._garnet red_12.jpg'] 1\n",
      "data/dataset/__MACOSX/Diamond [] ['._diamond_1.jpg', '._diamond_2.jpg', '._diamond_24.jpg', '._diamond_5.jpg', '._diamond_7.jpg', '._diamond_14.jpg', '._diamond_32.jpg', '._diamond_13.jpg', '._diamond_0.jpg', '._diamond_20.jpg', '._diamond_26.jpg', '._diamond_34.jpg', '._diamond_22.jpg', '._diamond_29.jpg', '._diamond_16.jpg', '._diamond_33.jpg', '._diamond_17.jpg', '._diamond_19.jpg', '._diamond_21.jpg', '._diamond_11.jpg', '._diamond_30.jpg', '._diamond_15.jpg', '._diamond_8.jpg', '._diamond_10.jpg', '._diamond_12.jpg', '._diamond_25.jpg', '._diamond_4.jpg', '._diamond_31.jpg', '._diamond_23.jpg', '._diamond_6.jpg', '._diamond_27.jpg'] 1\n",
      "data/dataset/__MACOSX/Carnelian [] ['._carnelian_1.jpg', '._carnelian_11.jpg', '._carnelian_30.jpg', '._carnelian_35.jpg', '._carnelian_19.jpg', '._carnelian_16.jpg', '._carnelian_2.jpg', '._carnelian_10.jpg', '._carnelian_36.jpg', '._carnelian_25.jpg', '._carnelian_21.jpg', '._carnelian_9.jpg', '._carnelian_32.jpg', '._carnelian_31.jpg', '._carnelian_0.jpg', '._carnelian_12.jpg', '._carnelian_27.jpg', '._carnelian_29.jpg', '._carnelian_17.jpg', '._carnelian_22.jpg', '._carnelian_24.jpg', '._carnelian_4.jpg', '._carnelian_23.jpg', '._carnelian_8.jpg', '._carnelian_33.jpg', '._carnelian_13.jpg', '._carnelian_5.jpg', '._carnelian_26.jpg', '._carnelian_15.jpg', '._carnelian_14.jpg', '._carnelian_20.jpg', '._carnelian_6.jpg', '._carnelian_34.jpg'] 1\n",
      "data/dataset/__MACOSX/Beryl Golden [] ['._beryl golden_31.jpg', '._beryl golden_20.jpg', '._beryl golden_35.jpg', '._beryl golden_23.jpg', '._beryl golden_12.jpg', '._beryl golden_33.jpg', '._beryl golden_26.jpg', '._beryl golden_14.jpg', '._beryl golden_27.jpg', '._beryl golden_37.jpg', '._beryl golden_7.jpg', '._beryl golden_29.jpg', '._beryl golden_13.jpg', '._beryl golden_18.jpg', '._beryl golden_28.jpg', '._beryl golden_15.jpg', '._beryl golden_8.jpg', '._beryl golden_25.jpg', '._beryl golden_1.jpg', '._beryl golden_11.jpg', '._beryl golden_38.jpg', '._beryl golden_24.jpg', '._beryl golden_2.jpg', '._beryl golden_21.jpg', '._beryl golden_32.jpg', '._beryl golden_19.jpg', '._beryl golden_30.jpg', '._beryl golden_17.jpg', '._beryl golden_36.jpg', '._beryl golden_39.jpg', '._beryl golden_0.jpg', '._beryl golden_5.jpg', '._beryl golden_10.jpg', '._beryl golden_22.jpg', '._beryl golden_16.jpg', '._beryl golden_34.jpg'] 1\n",
      "data/dataset/__MACOSX/Onyx Black [] ['._onyx black_6.jpg', '._onyx black_23.jpg', '._onyx black_7.jpg', '._onyx black_5.jpg', '._onyx black_1.jpg', '._onyx black_14.jpg', '._onyx black_21.jpg', '._onyx black_12.jpg', '._onyx black_27.jpg', '._onyx black_17.jpg', '._onyx black_10.jpg', '._onyx black_26.jpg', '._onyx black_0.jpg', '._onyx black_29.jpg', '._onyx black_11.jpg', '._onyx black_4.jpg', '._onyx black_16.jpg', '._onyx black_24.jpg', '._onyx black_20.jpg', '._onyx black_18.jpg', '._onyx black_30.jpg', '._onyx black_28.jpg', '._onyx black_22.jpg', '._onyx black_13.jpg', '._onyx black_2.jpg', '._onyx black_31.jpg', '._onyx black_19.jpg', '._onyx black_15.jpg'] 1\n",
      "data/dataset/__MACOSX/Emerald [] ['._emerald_11.jpg', '._emerald_29.jpg', '._emerald_0.jpg', '._emerald_35.jpg', '._emerald_28.jpg', '._emerald_12.jpg', '._emerald_19.jpg', '._emerald_14.jpg', '._emerald_9.jpg', '._emerald_38.jpg', '._emerald_40.jpg', '._emerald_13.jpg', '._emerald_23.jpg', '._emerald_27.jpg', '._emerald_10.jpg', '._emerald_16.jpg', '._emerald_37.jpg', '._emerald_36.jpg', '._emerald_32.jpg', '._emerald_25.jpg', '._emerald_1.jpg', '._emerald_26.jpg', '._emerald_20.jpg', '._emerald_33.jpg', '._emerald_7.jpg', '._emerald_31.jpg', '._emerald_21.jpg', '._emerald_34.jpg', '._emerald_15.jpg', '._emerald_2.jpg', '._emerald_39.jpg', '._emerald_24.jpg', '._emerald_17.jpg', '._emerald_6.jpg', '._emerald_30.jpg', '._emerald_22.jpg'] 1\n",
      "data/dataset/__MACOSX/Quartz Beer [] ['._quartz beer_22.jpg', '._quartz beer_17.jpg', '._quartz beer_8.jpg', '._quartz beer_11.jpg', '._quartz beer_10.jpg', '._quartz beer_27.jpg', '._quartz beer_16.jpg', '._quartz beer_1.jpg', '._quartz beer_36.jpg', '._quartz beer_9.jpg', '._quartz beer_25.jpg', '._quartz beer_0.jpg', '._quartz beer_20.jpg', '._quartz beer_33.jpg', '._quartz beer_2.jpg', '._quartz beer_26.jpg', '._quartz beer_38.jpg', '._quartz beer_15.jpg', '._quartz beer_14.jpg', '._quartz beer_34.jpg', '._quartz beer_32.jpg', '._quartz beer_35.jpg', '._quartz beer_24.jpg', '._quartz beer_37.jpg', '._quartz beer_29.jpg', '._quartz beer_12.jpg', '._quartz beer_4.jpg', '._quartz beer_28.jpg', '._quartz beer_21.jpg', '._quartz beer_13.jpg', '._quartz beer_6.jpg', '._quartz beer_19.jpg', '._quartz beer_30.jpg', '._quartz beer_23.jpg', '._quartz beer_31.jpg'] 1\n",
      "data/dataset/__MACOSX/Alexandrite [] ['._alexandrite_29.jpg', '._alexandrite_26.jpg', '._alexandrite_20.jpg', '._alexandrite_17.jpg', '._alexandrite_35.jpg', '._alexandrite_27.jpg', '._alexandrite_36.jpg', '._alexandrite_10.jpg', '._alexandrite_19.jpg', '._alexandrite_11.jpg', '._alexandrite_2.jpg', '._alexandrite_7.jpg', '._alexandrite_9.jpg', '._alexandrite_16.jpg', '._alexandrite_4.jpg', '._alexandrite_8.jpg', '._alexandrite_37.jpg', '._alexandrite_30.jpg', '._alexandrite_31.jpg', '._alexandrite_1.jpg', '._alexandrite_34.jpg', '._alexandrite_24.jpg', '._alexandrite_0.jpg', '._alexandrite_32.jpg', '._alexandrite_25.jpg', '._alexandrite_12.jpg', '._alexandrite_13.jpg', '._alexandrite_33.jpg', '._alexandrite_21.jpg', '._alexandrite_5.jpg', '._alexandrite_15.jpg', '._alexandrite_23.jpg', '._alexandrite_14.jpg', '._alexandrite_22.jpg'] 1\n",
      "data/dataset/__MACOSX/Rhodochrosite [] ['._rhodochrosite_19.jpg', '._rhodochrosite_6.jpg', '._rhodochrosite_23.jpg', '._rhodochrosite_7.jpg', '._rhodochrosite_16.jpg', '._rhodochrosite_26.jpg', '._rhodochrosite_20.jpg', '._rhodochrosite_4.jpg', '._rhodochrosite_24.jpg', '._rhodochrosite_25.jpg', '._rhodochrosite_13.jpg', '._rhodochrosite_28.jpg', '._rhodochrosite_8.jpg', '._rhodochrosite_10.jpg', '._rhodochrosite_2.jpg', '._rhodochrosite_22.jpg', '._rhodochrosite_27.jpg', '._rhodochrosite_21.jpg', '._rhodochrosite_15.jpg', '._rhodochrosite_12.jpg', '._rhodochrosite_5.jpg', '._rhodochrosite_1.jpg', '._rhodochrosite_29.jpg', '._rhodochrosite_31.jpg', '._rhodochrosite_11.jpg', '._rhodochrosite_14.jpg', '._rhodochrosite_0.jpg', '._rhodochrosite_17.jpg', '._rhodochrosite_9.jpg'] 1\n",
      "data/dataset/__MACOSX/Sapphire Blue [] ['._sapphire blue_29.jpg', '._sapphire blue_9.jpg', '._sapphire blue_11.jpg', '._sapphire blue_21.jpg', '._sapphire blue_16.jpg', '._sapphire blue_34.jpg', '._sapphire blue_25.jpg', '._sapphire blue_14.jpg', '._sapphire blue_10.jpg', '._sapphire blue_32.jpg', '._sapphire blue_26.jpg', '._sapphire blue_0.jpg', '._sapphire blue_1.jpg', '._sapphire blue_7.jpg', '._sapphire blue_23.jpg', '._sapphire blue_19.jpg', '._sapphire blue_8.jpg', '._sapphire blue_27.jpg', '._sapphire blue_36.jpg', '._sapphire blue_17.jpg', '._sapphire blue_30.jpg', '._sapphire blue_2.jpg', '._sapphire blue_20.jpg', '._sapphire blue_12.jpg', '._sapphire blue_31.jpg', '._sapphire blue_22.jpg', '._sapphire blue_4.jpg', '._sapphire blue_35.jpg', '._sapphire blue_5.jpg', '._sapphire blue_13.jpg', '._sapphire blue_33.jpg', '._sapphire blue_15.jpg', '._sapphire blue_37.jpg', '._sapphire blue_24.jpg'] 1\n",
      "data/dataset/__MACOSX/Zircon [] ['._zircon_20.jpg', '._zircon_30.jpg', '._zircon_29.jpg', '._zircon_26.jpg', '._zircon_25.jpg', '._zircon_33.jpg', '._zircon_36.jpg', '._zircon_35.jpg', '._zircon_16.jpg', '._zircon_4.jpg', '._zircon_22.jpg', '._zircon_5.jpg', '._zircon_2.jpg', '._zircon_11.jpg', '._zircon_24.jpg', '._zircon_17.jpg', '._zircon_19.jpg', '._zircon_15.jpg', '._zircon_12.jpg', '._zircon_10.jpg', '._zircon_6.jpg', '._zircon_13.jpg', '._zircon_1.jpg', '._zircon_9.jpg', '._zircon_8.jpg', '._zircon_14.jpg', '._zircon_34.jpg', '._zircon_0.jpg', '._zircon_23.jpg', '._zircon_31.jpg', '._zircon_27.jpg', '._zircon_21.jpg', '._zircon_32.jpg'] 1\n",
      "data/dataset/__MACOSX/Variscite [] ['._variscite_32.jpg', '._variscite_19.jpg', '._variscite_6.jpg', '._variscite_31.jpg', '._variscite_21.jpg', '._variscite_1.jpg', '._variscite_12.jpg', '._variscite_7.jpg', '._variscite_10.jpg', '._variscite_29.jpg', '._variscite_16.jpg', '._variscite_4.jpg', '._variscite_25.jpg', '._variscite_24.jpg', '._variscite_33.jpg', '._variscite_27.jpg', '._variscite_26.jpg', '._variscite_11.jpg', '._variscite_13.jpg', '._variscite_15.jpg', '._variscite_23.jpg', '._variscite_14.jpg', '._variscite_5.jpg', '._variscite_8.jpg', '._variscite_20.jpg', '._variscite_30.jpg', '._variscite_0.jpg', '._variscite_22.jpg', '._variscite_9.jpg', '._variscite_17.jpg'] 1\n",
      "data/dataset/__MACOSX/Fluorite [] ['._fluorite_25.jpg', '._fluorite_20.jpg', '._fluorite_7.jpg', '._fluorite_29.jpg', '._fluorite_34.jpg', '._fluorite_16.jpg', '._fluorite_21.jpg', '._fluorite_10.jpg', '._fluorite_9.jpg', '._fluorite_15.jpg', '._fluorite_2.jpg', '._fluorite_19.jpg', '._fluorite_1.jpg', '._fluorite_11.jpg', '._fluorite_14.jpg', '._fluorite_31.jpg', '._fluorite_4.jpg', '._fluorite_32.jpg', '._fluorite_35.jpg', '._fluorite_12.jpg', '._fluorite_24.jpg', '._fluorite_13.jpg', '._fluorite_27.jpg', '._fluorite_30.jpg', '._fluorite_0.jpg', '._fluorite_33.jpg', '._fluorite_6.jpg', '._fluorite_17.jpg', '._fluorite_26.jpg', '._fluorite_22.jpg', '._fluorite_5.jpg', '._fluorite_23.jpg'] 1\n",
      "data/dataset/__MACOSX/Cats Eye [] ['._cats eye_16.jpg', '._cats eye_1.jpg', '._cats eye_22.jpg', '._cats eye_15.jpg', '._cats eye_10.jpg', '._cats eye_17.jpg', '._cats eye_29.jpg', '._cats eye_24.jpg', '._cats eye_4.jpg', '._cats eye_2.jpg', '._cats eye_5.jpg', '._cats eye_7.jpg', '._cats eye_21.jpg', '._cats eye_23.jpg', '._cats eye_25.jpg', '._cats eye_19.jpg', '._cats eye_20.jpg', '._cats eye_27.jpg', '._cats eye_14.jpg', '._cats eye_33.jpg', '._cats eye_32.jpg', '._cats eye_12.jpg', '._cats eye_30.jpg', '._cats eye_34.jpg', '._cats eye_8.jpg', '._cats eye_0.jpg', '._cats eye_31.jpg', '._cats eye_6.jpg', '._cats eye_11.jpg', '._cats eye_13.jpg', '._cats eye_26.jpg'] 1\n",
      "data/dataset/__MACOSX/Pearl [] ['._pearl_24.jpg', '._pearl_19.jpg', '._pearl_8.jpg', '._pearl_25.jpg', '._pearl_31.jpg', '._pearl_22.jpg', '._pearl_1.jpg', '._pearl_13.jpg', '._pearl_23.jpg', '._pearl_5.jpg', '._pearl_33.jpg', '._pearl_0.jpg', '._pearl_14.jpg', '._pearl_27.jpg', '._pearl_34.jpg', '._pearl_9.jpg', '._pearl_2.jpg', '._pearl_36.jpg', '._pearl_29.jpg', '._pearl_21.jpg', '._pearl_6.jpg', '._pearl_11.jpg', '._pearl_35.jpg', '._pearl_30.jpg', '._pearl_15.jpg', '._pearl_26.jpg', '._pearl_20.jpg', '._pearl_10.jpg', '._pearl_32.jpg', '._pearl_16.jpg', '._pearl_12.jpg', '._pearl_4.jpg', '._pearl_17.jpg'] 1\n",
      "data/dataset/__MACOSX/Kunzite [] ['._kunzite_0.jpg', '._kunzite_1.jpg', '._kunzite_14.jpg', '._kunzite_32.jpg', '._kunzite_12.jpg', '._kunzite_26.jpg', '._kunzite_33.jpg', '._kunzite_15.jpg', '._kunzite_17.jpg', '._kunzite_6.jpg', '._kunzite_9.jpg', '._kunzite_10.jpg', '._kunzite_16.jpg', '._kunzite_11.jpg', '._kunzite_20.jpg', '._kunzite_13.jpg', '._kunzite_2.jpg', '._kunzite_5.jpg', '._kunzite_19.jpg', '._kunzite_7.jpg', '._kunzite_22.jpg', '._kunzite_27.jpg', '._kunzite_30.jpg', '._kunzite_34.jpg', '._kunzite_31.jpg', '._kunzite_35.jpg', '._kunzite_25.jpg', '._kunzite_23.jpg', '._kunzite_24.jpg', '._kunzite_4.jpg', '._kunzite_21.jpg', '._kunzite_29.jpg'] 1\n",
      "data/dataset/__MACOSX/Almandine [] ['._almandine_13.jpg', '._almandine_8.jpg', '._almandine_7.jpg', '._almandine_26.jpg', '._almandine_11.jpg', '._almandine_16.jpg', '._almandine_25.jpg', '._almandine_24.jpg', '._almandine_6.jpg', '._almandine_2.jpg', '._almandine_14.jpg', '._almandine_32.jpg', '._almandine_29.jpg', '._almandine_4.jpg', '._almandine_27.jpg', '._almandine_0.jpg', '._almandine_1.jpg', '._almandine_5.jpg', '._almandine_34.jpg', '._almandine_31.jpg', '._almandine_30.jpg', '._almandine_22.jpg', '._almandine_12.jpg', '._almandine_19.jpg', '._almandine_33.jpg', '._almandine_15.jpg', '._almandine_21.jpg', '._almandine_10.jpg', '._almandine_23.jpg', '._almandine_17.jpg', '._almandine_20.jpg'] 1\n",
      "data/dataset/__MACOSX/Benitoite [] ['._benitoite_13.jpg', '._benitoite_23.jpg', '._benitoite_22.jpg', '._benitoite_25.jpg', '._benitoite_21.jpg', '._benitoite_8.jpg', '._benitoite_17.jpg', '._benitoite_29.jpg', '._benitoite_31.jpg', '._benitoite_2.jpg', '._benitoite_10.jpg', '._benitoite_15.jpg', '._benitoite_32.jpg', '._benitoite_14.jpg', '._benitoite_12.jpg', '._benitoite_4.jpg', '._benitoite_1.jpg', '._benitoite_11.jpg', '._benitoite_0.jpg', '._benitoite_20.jpg', '._benitoite_33.jpg', '._benitoite_26.jpg', '._benitoite_16.jpg', '._benitoite_7.jpg', '._benitoite_5.jpg', '._benitoite_34.jpg', '._benitoite_27.jpg', '._benitoite_24.jpg', '._benitoite_30.jpg', '._benitoite_19.jpg', '._benitoite_6.jpg'] 1\n",
      "data/dataset/__MACOSX/Hessonite [] ['._hessonite_25.jpg', '._hessonite_6.jpg', '._hessonite_14.jpg', '._hessonite_5.jpg', '._hessonite_23.jpg', '._hessonite_7.jpg', '._hessonite_31.jpg', '._hessonite_17.jpg', '._hessonite_27.jpg', '._hessonite_4.jpg', '._hessonite_33.jpg', '._hessonite_19.jpg', '._hessonite_15.jpg', '._hessonite_1.jpg', '._hessonite_21.jpg', '._hessonite_10.jpg', '._hessonite_13.jpg', '._hessonite_20.jpg', '._hessonite_0.jpg', '._hessonite_9.jpg', '._hessonite_29.jpg', '._hessonite_26.jpg', '._hessonite_32.jpg', '._hessonite_16.jpg', '._hessonite_12.jpg', '._hessonite_24.jpg', '._hessonite_11.jpg', '._hessonite_30.jpg', '._hessonite_22.jpg', '._hessonite_8.jpg'] 1\n",
      "data/dataset/__MACOSX/Malachite [] ['._malachite_26.jpg', '._malachite_5.jpg', '._malachite_14.jpg', '._malachite_18.jpg', '._malachite_2.jpg', '._malachite_4.jpg', '._malachite_11.jpg', '._malachite_29.jpg', '._malachite_21.jpg', '._malachite_19.jpg', '._malachite_31.jpg', '._malachite_23.jpg', '._malachite_7.jpg', '._malachite_13.jpg', '._malachite_16.jpg', '._malachite_22.jpg', '._malachite_28.jpg', '._malachite_20.jpg', '._malachite_12.jpg', '._malachite_24.jpg', '._malachite_15.jpg', '._malachite_0.jpg', '._malachite_27.jpg', '._malachite_1.jpg', '._malachite_30.jpg', '._malachite_17.jpg', '._malachite_6.jpg', '._malachite_10.jpg'] 1\n",
      "data/dataset/__MACOSX ['Labradorite', 'Jade', 'Danburite', 'Iolite', 'Tanzanite', 'Garnet Red', 'Diamond', 'Carnelian', 'Beryl Golden', 'Onyx Black', 'Emerald', 'Quartz Beer', 'Alexandrite', 'Rhodochrosite', 'Sapphire Blue', 'Zircon', 'Variscite', 'Fluorite', 'Cats Eye', 'Pearl', 'Kunzite', 'Almandine', 'Benitoite', 'Hessonite', 'Malachite'] [] 1\n",
      "data/dataset ['Labradorite', 'Jade', 'Danburite', 'Iolite', 'Tanzanite', 'Garnet Red', 'Diamond', 'Carnelian', 'Beryl Golden', 'Onyx Black', 'Emerald', 'Quartz Beer', 'Alexandrite', 'Rhodochrosite', 'Sapphire Blue', 'Zircon', 'Variscite', 'Fluorite', 'Cats Eye', 'Pearl', 'Kunzite', 'Almandine', 'Benitoite', 'Hessonite', 'Malachite', '__MACOSX'] [] 1\n",
      "数据增强： data/dataset/Labradorite\n",
      "image： data/dataset/Labradorite\n",
      "Initialised with 40 image(s) found.\n",
      "Output directory set to data/dataset/Labradorite/output."
     ]
    },
    {
     "name": "stderr",
     "output_type": "stream",
     "text": [
      "Processing labradorite_17.jpg:   2%|▏         | 15/960 [00:00<00:23, 39.49 Samples/s]Processing labradorite_20.jpg: 100%|██████████| 960/960 [00:20<00:00, 45.83 Samples/s]\n",
      "Processing <PIL.Image.Image image mode=RGB size=225x225 at 0x7F1C4AF63F50>: 100%|██████████| 40/40 [00:00<00:00, 160.25 Samples/s]                 \n",
      "Processing jade_10.jpg:   1%|          | 12/972 [00:00<00:17, 56.19 Samples/s]"
     ]
    },
    {
     "name": "stdout",
     "output_type": "stream",
     "text": [
      "数据增强： data/dataset/Jade\n",
      "image： data/dataset/Jade\n",
      "Initialised with 28 image(s) found.\n",
      "Output directory set to data/dataset/Jade/output."
     ]
    },
    {
     "name": "stderr",
     "output_type": "stream",
     "text": [
      "Processing jade_20.jpg:   3%|▎         | 28/972 [00:00<00:13, 69.00 Samples/s]Processing jade_7.jpg: 100%|██████████| 972/972 [00:18<00:00, 53.39 Samples/s] \n",
      "Processing <PIL.Image.Image image mode=RGB size=290x290 at 0x7F1C4AF88150>: 100%|██████████| 28/28 [00:00<00:00, 168.04 Samples/s]\n",
      "Processing danburite_11.jpg:   1%|          | 7/968 [00:00<00:32, 29.33 Samples/s]"
     ]
    },
    {
     "name": "stdout",
     "output_type": "stream",
     "text": [
      "数据增强： data/dataset/Danburite\n",
      "image： data/dataset/Danburite\n",
      "Initialised with 32 image(s) found.\n",
      "Output directory set to data/dataset/Danburite/output."
     ]
    },
    {
     "name": "stderr",
     "output_type": "stream",
     "text": [
      "Processing danburite_6.jpg:   2%|▏         | 18/968 [00:00<00:27, 34.64 Samples/s]Processing danburite_11.jpg: 100%|██████████| 968/968 [00:19<00:00, 50.91 Samples/s]\n",
      "Processing <PIL.Image.Image image mode=RGB size=640x640 at 0x7F1C4AF79350>: 100%|██████████| 32/32 [00:00<00:00, 154.78 Samples/s]                 \n",
      "Processing iolite_14.jpg:   2%|▏         | 15/968 [00:00<00:11, 82.74 Samples/s]"
     ]
    },
    {
     "name": "stdout",
     "output_type": "stream",
     "text": [
      "数据增强： data/dataset/Iolite\n",
      "image： data/dataset/Iolite\n",
      "Initialised with 32 image(s) found.\n",
      "Output directory set to data/dataset/Iolite/output."
     ]
    },
    {
     "name": "stderr",
     "output_type": "stream",
     "text": [
      "Processing iolite_30.jpg:   3%|▎         | 30/968 [00:00<00:11, 82.96 Samples/s]Processing iolite_21.jpg: 100%|██████████| 968/968 [00:16<00:00, 59.73 Samples/s]\n",
      "Processing <PIL.Image.Image image mode=RGB size=290x290 at 0x7F1C4872F4D0>: 100%|██████████| 32/32 [00:00<00:00, 377.54 Samples/s]\n",
      "Processing tanzanite_33.jpg:   1%|          | 5/964 [00:00<00:19, 49.76 Samples/s]"
     ]
    },
    {
     "name": "stdout",
     "output_type": "stream",
     "text": [
      "数据增强： data/dataset/Tanzanite\n",
      "image： data/dataset/Tanzanite\n",
      "Initialised with 36 image(s) found.\n",
      "Output directory set to data/dataset/Tanzanite/output."
     ]
    },
    {
     "name": "stderr",
     "output_type": "stream",
     "text": [
      "Processing tanzanite_21.jpg:   2%|▏         | 15/964 [00:00<00:22, 42.47 Samples/s]Processing tanzanite_13.jpg: 100%|██████████| 964/964 [00:22<00:00, 43.41 Samples/s]\n",
      "Processing <PIL.Image.Image image mode=RGB size=401x401 at 0x7F1C48720810>: 100%|██████████| 36/36 [00:00<00:00, 149.10 Samples/s]                 \n",
      "Processing garnet red_17.jpg:   1%|          | 9/964 [00:00<00:18, 52.18 Samples/s]"
     ]
    },
    {
     "name": "stdout",
     "output_type": "stream",
     "text": [
      "数据增强： data/dataset/Garnet Red\n",
      "image： data/dataset/Garnet Red\n",
      "Initialised with 36 image(s) found.\n",
      "Output directory set to data/dataset/Garnet Red/output."
     ]
    },
    {
     "name": "stderr",
     "output_type": "stream",
     "text": [
      "Processing garnet red_2.jpg:   2%|▏         | 18/964 [00:00<00:17, 53.87 Samples/s] Processing garnet red_8.jpg: 100%|██████████| 964/964 [00:20<00:00, 47.70 Samples/s] \n",
      "Processing <PIL.Image.Image image mode=RGB size=301x301 at 0x7F1C48734D90>: 100%|██████████| 36/36 [00:00<00:00, 158.26 Samples/s]                 \n",
      "Processing diamond_2.jpg:   1%|          | 7/969 [00:00<00:35, 27.40 Samples/s] "
     ]
    },
    {
     "name": "stdout",
     "output_type": "stream",
     "text": [
      "数据增强： data/dataset/Diamond\n",
      "image： data/dataset/Diamond\n",
      "Initialised with 31 image(s) found.\n",
      "Output directory set to data/dataset/Diamond/output."
     ]
    },
    {
     "name": "stderr",
     "output_type": "stream",
     "text": [
      "Processing diamond_34.jpg:   1%|▏         | 13/969 [00:00<00:29, 32.89 Samples/s]Processing diamond_7.jpg: 100%|██████████| 969/969 [00:25<00:00, 38.46 Samples/s] \n",
      "Processing <PIL.Image.Image image mode=RGB size=330x330 at 0x7F1C4AF6FC50>: 100%|██████████| 31/31 [00:00<00:00, 124.43 Samples/s]                 \n",
      "Processing carnelian_35.jpg:   1%|          | 10/967 [00:00<00:14, 65.40 Samples/s]"
     ]
    },
    {
     "name": "stdout",
     "output_type": "stream",
     "text": [
      "数据增强： data/dataset/Carnelian\n",
      "image： data/dataset/Carnelian\n",
      "Initialised with 33 image(s) found.\n",
      "Output directory set to data/dataset/Carnelian/output."
     ]
    },
    {
     "name": "stderr",
     "output_type": "stream",
     "text": [
      "Processing carnelian_15.jpg:   2%|▏         | 19/967 [00:00<00:15, 59.31 Samples/s]Processing carnelian_8.jpg: 100%|██████████| 967/967 [00:24<00:00, 39.64 Samples/s] \n",
      "Processing <PIL.Image.Image image mode=RGB size=401x401 at 0x7F1C48721290>: 100%|██████████| 33/33 [00:00<00:00, 174.50 Samples/s]                 \n",
      "Processing beryl golden_20.jpg:   1%|▏         | 13/964 [00:00<00:13, 69.30 Samples/s]"
     ]
    },
    {
     "name": "stdout",
     "output_type": "stream",
     "text": [
      "数据增强： data/dataset/Beryl Golden\n",
      "image： data/dataset/Beryl Golden\n",
      "Initialised with 36 image(s) found.\n",
      "Output directory set to data/dataset/Beryl Golden/output."
     ]
    },
    {
     "name": "stderr",
     "output_type": "stream",
     "text": [
      "Processing beryl golden_8.jpg:   2%|▏         | 22/964 [00:00<00:14, 65.06 Samples/s]Processing beryl golden_8.jpg: 100%|██████████| 964/964 [00:16<00:00, 57.84 Samples/s] \n",
      "Processing <PIL.Image.Image image mode=RGB size=297x289 at 0x7F1C48732610>: 100%|██████████| 36/36 [00:00<00:00, 315.03 Samples/s]                  \n",
      "Processing onyx black_16.jpg:   1%|          | 12/972 [00:00<00:16, 56.57 Samples/s]"
     ]
    },
    {
     "name": "stdout",
     "output_type": "stream",
     "text": [
      "数据增强： data/dataset/Onyx Black\n",
      "image： data/dataset/Onyx Black\n",
      "Initialised with 28 image(s) found.\n",
      "Output directory set to data/dataset/Onyx Black/output."
     ]
    },
    {
     "name": "stderr",
     "output_type": "stream",
     "text": [
      "Processing onyx black_4.jpg:   2%|▏         | 24/972 [00:00<00:16, 58.92 Samples/s] Processing onyx black_2.jpg: 100%|██████████| 972/972 [00:18<00:00, 52.39 Samples/s] \n",
      "Processing <PIL.Image.Image image mode=RGB size=201x189 at 0x7F1C48732790>: 100%|██████████| 28/28 [00:00<00:00, 164.65 Samples/s]                 \n",
      "Processing emerald_22.jpg:   1%|          | 10/964 [00:00<00:19, 49.63 Samples/s]"
     ]
    },
    {
     "name": "stdout",
     "output_type": "stream",
     "text": [
      "数据增强： data/dataset/Emerald\n",
      "image： data/dataset/Emerald\n",
      "Initialised with 36 image(s) found.\n",
      "Output directory set to data/dataset/Emerald/output."
     ]
    },
    {
     "name": "stderr",
     "output_type": "stream",
     "text": [
      "Processing emerald_19.jpg:   2%|▏         | 18/964 [00:00<00:19, 48.26 Samples/s]Processing emerald_10.jpg: 100%|██████████| 964/964 [00:24<00:00, 39.64 Samples/s]\n",
      "Processing <PIL.Image.Image image mode=RGB size=311x311 at 0x7F1C4AF6F050>: 100%|██████████| 36/36 [00:00<00:00, 67.42 Samples/s]                  \n",
      "Processing quartz beer_27.jpg:   1%|          | 9/965 [00:00<00:16, 56.62 Samples/s]"
     ]
    },
    {
     "name": "stdout",
     "output_type": "stream",
     "text": [
      "数据增强： data/dataset/Quartz Beer\n",
      "image： data/dataset/Quartz Beer\n",
      "Initialised with 35 image(s) found.\n",
      "Output directory set to data/dataset/Quartz Beer/output."
     ]
    },
    {
     "name": "stderr",
     "output_type": "stream",
     "text": [
      "Processing quartz beer_17.jpg:   2%|▏         | 21/965 [00:00<00:15, 60.05 Samples/s]Processing quartz beer_11.jpg: 100%|██████████| 965/965 [00:16<00:00, 59.19 Samples/s]\n",
      "Processing <PIL.Image.Image image mode=RGB size=300x300 at 0x7F1C48726310>: 100%|██████████| 35/35 [00:00<00:00, 213.20 Samples/s]                  \n",
      "Processing alexandrite_37.jpg:   1%|▏         | 13/966 [00:00<00:14, 66.05 Samples/s]"
     ]
    },
    {
     "name": "stdout",
     "output_type": "stream",
     "text": [
      "数据增强： data/dataset/Alexandrite\n",
      "image： data/dataset/Alexandrite\n",
      "Initialised with 34 image(s) found.\n",
      "Output directory set to data/dataset/Alexandrite/output."
     ]
    },
    {
     "name": "stderr",
     "output_type": "stream",
     "text": [
      "Processing alexandrite_31.jpg:   3%|▎         | 25/966 [00:00<00:13, 71.47 Samples/s]Processing alexandrite_25.jpg: 100%|██████████| 966/966 [00:19<00:00, 50.07 Samples/s]\n",
      "Processing <PIL.Image.Image image mode=RGB size=395x395 at 0x7F1C48720F10>: 100%|██████████| 34/34 [00:00<00:00, 149.92 Samples/s]\n",
      "Processing rhodochrosite_28.jpg:   1%|          | 9/971 [00:00<00:16, 59.80 Samples/s]"
     ]
    },
    {
     "name": "stdout",
     "output_type": "stream",
     "text": [
      "数据增强： data/dataset/Rhodochrosite\n",
      "image： data/dataset/Rhodochrosite\n",
      "Initialised with 29 image(s) found.\n",
      "Output directory set to data/dataset/Rhodochrosite/output."
     ]
    },
    {
     "name": "stderr",
     "output_type": "stream",
     "text": [
      "Processing rhodochrosite_12.jpg:   2%|▏         | 15/971 [00:00<00:21, 44.28 Samples/s]Processing rhodochrosite_25.jpg: 100%|██████████| 971/971 [00:20<00:00, 47.05 Samples/s]\n",
      "Processing <PIL.Image.Image image mode=RGB size=185x183 at 0x7F1C48721E10>: 100%|██████████| 29/29 [00:00<00:00, 170.06 Samples/s]                 \n",
      "Processing sapphire blue_7.jpg:   1%|          | 11/966 [00:00<00:14, 66.05 Samples/s] "
     ]
    },
    {
     "name": "stdout",
     "output_type": "stream",
     "text": [
      "数据增强： data/dataset/Sapphire Blue\n",
      "image： data/dataset/Sapphire Blue\n",
      "Initialised with 34 image(s) found.\n",
      "Output directory set to data/dataset/Sapphire Blue/output."
     ]
    },
    {
     "name": "stderr",
     "output_type": "stream",
     "text": [
      "Processing sapphire blue_32.jpg:   2%|▏         | 22/966 [00:00<00:14, 64.11 Samples/s]Processing sapphire blue_30.jpg: 100%|██████████| 966/966 [00:19<00:00, 49.05 Samples/s]\n",
      "Processing <PIL.Image.Image image mode=RGB size=290x290 at 0x7F1C4873A690>: 100%|██████████| 34/34 [00:00<00:00, 192.14 Samples/s]\n",
      "Processing zircon_19.jpg:   1%|          | 7/967 [00:00<00:23, 41.47 Samples/s]"
     ]
    },
    {
     "name": "stdout",
     "output_type": "stream",
     "text": [
      "数据增强： data/dataset/Zircon\n",
      "image： data/dataset/Zircon\n",
      "Initialised with 33 image(s) found.\n",
      "Output directory set to data/dataset/Zircon/output."
     ]
    },
    {
     "name": "stderr",
     "output_type": "stream",
     "text": [
      "Processing zircon_33.jpg:   2%|▏         | 17/967 [00:00<00:21, 44.38 Samples/s]Processing zircon_1.jpg: 100%|██████████| 967/967 [00:24<00:00, 38.73 Samples/s] \n",
      "Processing <PIL.Image.Image image mode=RGB size=400x400 at 0x7F1C48720C90>: 100%|██████████| 33/33 [00:00<00:00, 144.04 Samples/s]                 \n",
      "Processing variscite_15.jpg:   1%|          | 9/970 [00:00<00:21, 43.81 Samples/s]"
     ]
    },
    {
     "name": "stdout",
     "output_type": "stream",
     "text": [
      "数据增强： data/dataset/Variscite\n",
      "image： data/dataset/Variscite\n",
      "Initialised with 30 image(s) found.\n",
      "Output directory set to data/dataset/Variscite/output."
     ]
    },
    {
     "name": "stderr",
     "output_type": "stream",
     "text": [
      "Processing variscite_21.jpg:   2%|▏         | 23/970 [00:00<00:21, 43.50 Samples/s]Processing variscite_10.jpg: 100%|██████████| 970/970 [00:21<00:00, 45.11 Samples/s]\n",
      "Processing <PIL.Image.Image image mode=RGB size=290x290 at 0x7F1C487323D0>: 100%|██████████| 30/30 [00:00<00:00, 183.09 Samples/s]\n",
      "Processing fluorite_14.jpg:   1%|          | 5/968 [00:00<00:53, 17.88 Samples/s]"
     ]
    },
    {
     "name": "stdout",
     "output_type": "stream",
     "text": [
      "数据增强： data/dataset/Fluorite\n",
      "image： data/dataset/Fluorite\n",
      "Initialised with 32 image(s) found.\n",
      "Output directory set to data/dataset/Fluorite/output."
     ]
    },
    {
     "name": "stderr",
     "output_type": "stream",
     "text": [
      "Processing fluorite_16.jpg:   1%|          | 10/968 [00:00<00:44, 21.55 Samples/s]Processing fluorite_14.jpg: 100%|██████████| 968/968 [00:22<00:00, 43.92 Samples/s]\n",
      "Processing <PIL.Image.Image image mode=RGB size=500x442 at 0x7F1C4872C290>: 100%|██████████| 32/32 [00:00<00:00, 146.85 Samples/s]                 \n",
      "Processing cats eye_25.jpg:   1%|          | 6/969 [00:00<00:20, 46.48 Samples/s]"
     ]
    },
    {
     "name": "stdout",
     "output_type": "stream",
     "text": [
      "数据增强： data/dataset/Cats Eye\n",
      "image： data/dataset/Cats Eye\n",
      "Initialised with 31 image(s) found.\n",
      "Output directory set to data/dataset/Cats Eye/output."
     ]
    },
    {
     "name": "stderr",
     "output_type": "stream",
     "text": [
      "Processing cats eye_19.jpg:   2%|▏         | 15/969 [00:00<00:21, 44.65 Samples/s]Processing cats eye_31.jpg: 100%|██████████| 969/969 [00:25<00:00, 37.92 Samples/s]\n",
      "Processing <PIL.Image.Image image mode=RGB size=401x401 at 0x7F1C48731090>: 100%|██████████| 31/31 [00:00<00:00, 136.58 Samples/s]\n",
      "Processing pearl_10.jpg:   1%|          | 11/967 [00:00<00:13, 69.28 Samples/s]"
     ]
    },
    {
     "name": "stdout",
     "output_type": "stream",
     "text": [
      "数据增强： data/dataset/Pearl\n",
      "image： data/dataset/Pearl\n",
      "Initialised with 33 image(s) found.\n",
      "Output directory set to data/dataset/Pearl/output."
     ]
    },
    {
     "name": "stderr",
     "output_type": "stream",
     "text": [
      "Processing pearl_14.jpg:   2%|▏         | 19/967 [00:00<00:15, 59.93 Samples/s]Processing pearl_30.jpg: 100%|██████████| 967/967 [00:18<00:00, 53.70 Samples/s]\n",
      "Processing <PIL.Image.Image image mode=RGB size=301x301 at 0x7F1C48739690>: 100%|██████████| 33/33 [00:00<00:00, 241.76 Samples/s]                 \n",
      "Processing kunzite_21.jpg:   1%|          | 11/968 [00:00<00:10, 92.41 Samples/s]"
     ]
    },
    {
     "name": "stdout",
     "output_type": "stream",
     "text": [
      "数据增强： data/dataset/Kunzite\n",
      "image： data/dataset/Kunzite\n",
      "Initialised with 32 image(s) found.\n",
      "Output directory set to data/dataset/Kunzite/output."
     ]
    },
    {
     "name": "stderr",
     "output_type": "stream",
     "text": [
      "Processing kunzite_21.jpg:   2%|▏         | 20/968 [00:00<00:15, 59.63 Samples/s]Processing kunzite_27.jpg: 100%|██████████| 968/968 [00:16<00:00, 60.03 Samples/s]\n",
      "Processing <PIL.Image.Image image mode=RGB size=225x225 at 0x7F1C4872C390>: 100%|██████████| 32/32 [00:00<00:00, 360.70 Samples/s]                  \n",
      "Processing almandine_29.jpg:   1%|          | 10/969 [00:00<00:20, 47.39 Samples/s]"
     ]
    },
    {
     "name": "stdout",
     "output_type": "stream",
     "text": [
      "数据增强： data/dataset/Almandine\n",
      "image： data/dataset/Almandine\n",
      "Initialised with 31 image(s) found.\n",
      "Output directory set to data/dataset/Almandine/output."
     ]
    },
    {
     "name": "stderr",
     "output_type": "stream",
     "text": [
      "Processing almandine_15.jpg:   2%|▏         | 18/969 [00:00<00:18, 50.86 Samples/s]Processing almandine_7.jpg: 100%|██████████| 969/969 [00:22<00:00, 42.84 Samples/s] \n",
      "Processing <PIL.Image.Image image mode=RGB size=521x497 at 0x7F1C48732250>: 100%|██████████| 31/31 [00:00<00:00, 109.57 Samples/s]\n",
      "Processing benitoite_32.jpg:   1%|          | 10/969 [00:00<00:18, 51.99 Samples/s]"
     ]
    },
    {
     "name": "stdout",
     "output_type": "stream",
     "text": [
      "数据增强： data/dataset/Benitoite\n",
      "image： data/dataset/Benitoite\n",
      "Initialised with 31 image(s) found.\n",
      "Output directory set to data/dataset/Benitoite/output."
     ]
    },
    {
     "name": "stderr",
     "output_type": "stream",
     "text": [
      "Processing benitoite_23.jpg:   3%|▎         | 27/969 [00:00<00:14, 65.84 Samples/s]Processing benitoite_26.jpg: 100%|██████████| 969/969 [00:15<00:00, 62.28 Samples/s]\n",
      "Processing <PIL.Image.Image image mode=RGB size=400x400 at 0x7F1C4873A3D0>: 100%|██████████| 31/31 [00:00<00:00, 271.45 Samples/s]                  \n",
      "Processing hessonite_9.jpg:   1%|          | 6/970 [00:00<00:48, 19.75 Samples/s] "
     ]
    },
    {
     "name": "stdout",
     "output_type": "stream",
     "text": [
      "数据增强： data/dataset/Hessonite\n",
      "image： data/dataset/Hessonite\n",
      "Initialised with 30 image(s) found.\n",
      "Output directory set to data/dataset/Hessonite/output."
     ]
    },
    {
     "name": "stderr",
     "output_type": "stream",
     "text": [
      "Processing hessonite_6.jpg:   1%|▏         | 13/970 [00:00<00:36, 26.11 Samples/s] Processing hessonite_11.jpg: 100%|██████████| 970/970 [00:19<00:00, 48.58 Samples/s]\n",
      "Processing <PIL.Image.Image image mode=RGB size=301x301 at 0x7F1C4AF6F8D0>: 100%|██████████| 30/30 [00:00<00:00, 240.31 Samples/s]                \n",
      "Processing malachite_4.jpg:   1%|          | 7/972 [00:00<00:19, 50.24 Samples/s] "
     ]
    },
    {
     "name": "stdout",
     "output_type": "stream",
     "text": [
      "数据增强： data/dataset/Malachite\n",
      "image： data/dataset/Malachite\n",
      "Initialised with 28 image(s) found.\n",
      "Output directory set to data/dataset/Malachite/output."
     ]
    },
    {
     "name": "stderr",
     "output_type": "stream",
     "text": [
      "Processing malachite_28.jpg:   1%|▏         | 13/972 [00:00<00:20, 47.76 Samples/s]Processing malachite_4.jpg: 100%|██████████| 972/972 [00:19<00:00, 50.69 Samples/s] \n",
      "Processing <PIL.Image.Image image mode=RGB size=290x290 at 0x7F1C48731650>: 100%|██████████| 28/28 [00:00<00:00, 198.55 Samples/s]                 \n"
     ]
    },
    {
     "name": "stdout",
     "output_type": "stream",
     "text": [
      "将生成的图片拷贝到正确的目录\n",
      "删除所有output目录\n",
      "完成数据增强\n"
     ]
    }
   ],
   "source": [
    "import os, Augmentor\n",
    "import shutil, glob\n",
    "\n",
    "if not os.path.exists(augment_path): # 控制不重复增强数据\n",
    "    for root, dirs, files in os.walk(\"data/dataset\", topdown=False):\n",
    "        print(root,dirs,files,'1')\n",
    "        for name in dirs:\n",
    "            path_ = os.path.join(root, name)\n",
    "            if '__MACOSX' in path_:continue\n",
    "            print('数据增强：',os.path.join(root, name))\n",
    "            print('image：',os.path.join(root, name))\n",
    "            p = Augmentor.Pipeline(os.path.join(root, name),output_directory='output')\n",
    "            p.rotate(probability=0.6, max_left_rotation=2, max_right_rotation=2)\n",
    "            p.zoom(probability=0.6, min_factor=0.9, max_factor=1.1)\n",
    "            p.random_distortion(probability=0.4, grid_height=2, grid_width=2, magnitude=1)\n",
    "\n",
    "            count = 1000 - len(glob.glob(pathname=path_+'/*.jpg'))\n",
    "            p.sample(count, multi_threaded=False)\n",
    "            p.process()\n",
    "\n",
    "    print('将生成的图片拷贝到正确的目录')\n",
    "    for root, dirs, files in os.walk(\"data/dataset\", topdown=False):\n",
    "        for name in files:\n",
    "            path_ = os.path.join(root, name)\n",
    "            if path_.rsplit('/',3)[2] == 'output':\n",
    "                type_ = path_.rsplit('/',3)[1]\n",
    "                dest_dir = os.path.join(augment_path ,type_) \n",
    "                if not os.path.exists(dest_dir):os.makedirs(dest_dir) \n",
    "                dest_path_ = os.path.join(augment_path ,type_, name) \n",
    "                shutil.move(path_, dest_path_)\n",
    "    print('删除所有output目录')\n",
    "    for root, dirs, files in os.walk(\"data/dataset\", topdown=False):\n",
    "        for name in dirs:\n",
    "            if name == 'output':\n",
    "                path_ = os.path.join(root, name)\n",
    "                shutil.rmtree(path_)\n",
    "    print('完成数据增强')"
   ]
  },
  {
   "cell_type": "code",
   "execution_count": null,
   "metadata": {
    "collapsed": false
   },
   "outputs": [
    {
     "name": "stdout",
     "output_type": "stream",
     "text": [
      "{'input_size': [3, 64, 64], 'class_dim': 25, 'augment_path': '/home/aistudio/augment', 'src_path': 'data/data66363/archive_train.zip', 'target_path': '/home/aistudio/data/dataset', 'train_list_path': './train_data.txt', 'eval_list_path': './val_data.txt', 'label_dict': {'0': 'Labradorite', '1': 'Jade', '2': 'Danburite', '3': 'Iolite', '4': 'Tanzanite', '5': 'Garnet Red', '6': 'Diamond', '7': 'Carnelian', '8': 'Beryl Golden', '9': 'Onyx Black', '10': 'Emerald', '11': 'Quartz Beer', '12': 'Alexandrite', '13': 'Rhodochrosite', '14': 'Sapphire Blue', '15': 'Zircon', '16': 'Variscite', '17': 'Fluorite', '18': 'Cats Eye', '19': 'Pearl', '20': 'Kunzite', '21': 'Almandine', '22': 'Benitoite', '23': 'Hessonite', '24': 'Malachite'}, 'readme_path': '/home/aistudio/data/readme.json', 'num_epochs': 20, 'train_batch_size': 64, 'learning_strategy': {'lr': 0.001}}\n",
      "生成数据列表完成！\n"
     ]
    }
   ],
   "source": [
    "\n",
    "\n",
    "\n",
    "#每次生成数据列表前，首先清空train.txt和eval.txt\n",
    "with open(train_list_path, 'w') as f: \n",
    "    f.seek(0)\n",
    "    f.truncate() \n",
    "with open(eval_list_path, 'w') as f: \n",
    "    f.seek(0)\n",
    "    f.truncate() \n",
    "    \n",
    "#生成数据列表   \n",
    "get_data_list(target_path,train_list_path,eval_list_path,augment_path)\n",
    "\n",
    "'''\n",
    "构造数据提供器\n",
    "'''\n",
    "train_reader = paddle.batch(data_reader(train_list_path),\n",
    "                            batch_size=batch_size,\n",
    "                            drop_last=True)\n",
    "eval_reader = paddle.batch(data_reader(eval_list_path),\n",
    "                            batch_size=batch_size,\n",
    "                            drop_last=True)\n",
    "                            "
   ]
  },
  {
   "cell_type": "code",
   "execution_count": null,
   "metadata": {
    "collapsed": false
   },
   "outputs": [],
   "source": [
    "Batch=0\n",
    "Batchs=[]\n",
    "all_train_accs=[]\n",
    "def draw_train_acc(Batchs, train_accs):\n",
    "    title=\"training accs\"\n",
    "    plt.title(title, fontsize=24)\n",
    "    plt.xlabel(\"batch\", fontsize=14)\n",
    "    plt.ylabel(\"acc\", fontsize=14)\n",
    "    plt.plot(Batchs, train_accs, color='green', label='training accs')\n",
    "    plt.legend()\n",
    "    plt.grid()\n",
    "    plt.show()\n",
    "\n",
    "all_train_loss=[]\n",
    "def draw_train_loss(Batchs, train_loss):\n",
    "    title=\"training loss\"\n",
    "    plt.title(title, fontsize=24)\n",
    "    plt.xlabel(\"batch\", fontsize=14)\n",
    "    plt.ylabel(\"loss\", fontsize=14)\n",
    "    plt.plot(Batchs, train_loss, color='red', label='training loss')\n",
    "    plt.legend()\n",
    "    plt.grid()\n",
    "    plt.show()"
   ]
  },
  {
   "cell_type": "markdown",
   "metadata": {
    "collapsed": false
   },
   "source": [
    "# 2、定义模型\n",
    "\n",
    "### ###在以下cell中完成DNN网络的定义###"
   ]
  },
  {
   "cell_type": "code",
   "execution_count": null,
   "metadata": {
    "collapsed": false
   },
   "outputs": [],
   "source": [
    "\n",
    "#定义网络\n",
    "class MyDNN(fluid.dygraph.Layer):\n",
    "    '''\n",
    "    卷积神经网络\n",
    "    '''\n",
    "    def __init__(self):\n",
    "        super(MyDNN,self).__init__()\n",
    "        self.hidden1=fluid.dygraph.Linear(3*64*64,1000, act='relu')\n",
    "        self.hidden2=fluid.dygraph.Linear(1000,500, act='relu')\n",
    "        self.hidden3=fluid.dygraph.Linear(500,100, act='relu')\n",
    "        self.out = fluid.dygraph.Linear(input_dim=100, output_dim=25, act='softmax')\n",
    "\n",
    "    def forward(self,input):\n",
    "        x = fluid.layers.reshape(input,shape=[-1,3*64*64])\n",
    "        x = self.hidden1(x)\n",
    "        x = self.hidden2(x)\n",
    "        x = self.hidden3(x)\n",
    "        x = self.out(x)\n",
    "        return x"
   ]
  },
  {
   "cell_type": "markdown",
   "metadata": {
    "collapsed": false
   },
   "source": [
    "# 3、训练模型"
   ]
  },
  {
   "cell_type": "code",
   "execution_count": 17,
   "metadata": {
    "collapsed": false
   },
   "outputs": [
    {
     "name": "stdout",
     "output_type": "stream",
     "text": [
      "25\n",
      "{'0': 'Labradorite', '1': 'Jade', '2': 'Danburite', '3': 'Iolite', '4': 'Tanzanite', '5': 'Garnet Red', '6': 'Diamond', '7': 'Carnelian', '8': 'Beryl Golden', '9': 'Onyx Black', '10': 'Emerald', '11': 'Quartz Beer', '12': 'Alexandrite', '13': 'Rhodochrosite', '14': 'Sapphire Blue', '15': 'Zircon', '16': 'Variscite', '17': 'Fluorite', '18': 'Cats Eye', '19': 'Pearl', '20': 'Kunzite', '21': 'Almandine', '22': 'Benitoite', '23': 'Hessonite', '24': 'Malachite'}\n"
     ]
    },
    {
     "name": "stderr",
     "output_type": "stream",
     "text": [
      "W0317 21:49:11.499866   879 device_context.cc:252] Please NOTE: device: 0, CUDA Capability: 70, Driver API Version: 10.1, Runtime API Version: 9.0\n",
      "W0317 21:49:11.505533   879 device_context.cc:260] device: 0, cuDNN Version: 7.6.\n"
     ]
    },
    {
     "name": "stdout",
     "output_type": "stream",
     "text": [
      "train_pass:0,batch_id:5,train_loss:[3.1037416],train_acc:[0.125]\n",
      "train_pass:0,batch_id:10,train_loss:[3.2158608],train_acc:[0.046875]\n",
      "train_pass:0,batch_id:15,train_loss:[3.1386018],train_acc:[0.046875]\n",
      "train_pass:0,batch_id:20,train_loss:[3.0935373],train_acc:[0.046875]\n",
      "train_pass:0,batch_id:25,train_loss:[3.0680408],train_acc:[0.109375]\n",
      "train_pass:0,batch_id:30,train_loss:[3.1759026],train_acc:[0.15625]\n",
      "train_pass:0,batch_id:35,train_loss:[3.0858781],train_acc:[0.109375]\n",
      "train_pass:0,batch_id:40,train_loss:[3.0137534],train_acc:[0.21875]\n",
      "train_pass:0,batch_id:45,train_loss:[2.9993591],train_acc:[0.15625]\n",
      "train_pass:0,batch_id:50,train_loss:[2.9882631],train_acc:[0.15625]\n",
      "train_pass:0,batch_id:55,train_loss:[2.993816],train_acc:[0.203125]\n",
      "train_pass:0,batch_id:60,train_loss:[3.019238],train_acc:[0.1875]\n",
      "train_pass:0,batch_id:65,train_loss:[2.9680061],train_acc:[0.1875]\n",
      "train_pass:0,batch_id:70,train_loss:[2.9253027],train_acc:[0.1875]\n",
      "train_pass:0,batch_id:75,train_loss:[2.8863955],train_acc:[0.21875]\n",
      "train_pass:0,batch_id:80,train_loss:[2.9567676],train_acc:[0.1875]\n",
      "train_pass:0,batch_id:85,train_loss:[2.978231],train_acc:[0.1875]\n",
      "train_pass:0,batch_id:90,train_loss:[2.881529],train_acc:[0.1875]\n",
      "train_pass:0,batch_id:95,train_loss:[2.899468],train_acc:[0.234375]\n",
      "train_pass:0,batch_id:100,train_loss:[2.8675973],train_acc:[0.25]\n",
      "train_pass:0,batch_id:105,train_loss:[2.8791726],train_acc:[0.234375]\n",
      "train_pass:0,batch_id:110,train_loss:[2.835743],train_acc:[0.25]\n",
      "train_pass:0,batch_id:115,train_loss:[2.8529112],train_acc:[0.25]\n",
      "train_pass:0,batch_id:120,train_loss:[2.804802],train_acc:[0.359375]\n",
      "train_pass:0,batch_id:125,train_loss:[2.8409262],train_acc:[0.328125]\n",
      "train_pass:0,batch_id:130,train_loss:[2.957154],train_acc:[0.15625]\n",
      "train_pass:0,batch_id:135,train_loss:[2.772914],train_acc:[0.28125]\n",
      "train_pass:0,batch_id:140,train_loss:[2.819375],train_acc:[0.296875]\n",
      "train_pass:0,batch_id:145,train_loss:[2.7671947],train_acc:[0.3125]\n",
      "train_pass:0,batch_id:150,train_loss:[2.7631369],train_acc:[0.234375]\n",
      "train_pass:0,batch_id:155,train_loss:[2.7036133],train_acc:[0.328125]\n",
      "train_pass:0,batch_id:160,train_loss:[2.6666265],train_acc:[0.34375]\n",
      "train_pass:0,batch_id:165,train_loss:[2.6928496],train_acc:[0.296875]\n",
      "train_pass:0,batch_id:170,train_loss:[2.732283],train_acc:[0.234375]\n",
      "train_pass:0,batch_id:175,train_loss:[2.7506695],train_acc:[0.265625]\n",
      "train_pass:0,batch_id:180,train_loss:[2.6041865],train_acc:[0.40625]\n",
      "train_pass:0,batch_id:185,train_loss:[2.5611732],train_acc:[0.46875]\n",
      "train_pass:0,batch_id:190,train_loss:[2.615997],train_acc:[0.265625]\n",
      "train_pass:0,batch_id:195,train_loss:[2.639424],train_acc:[0.3125]\n",
      "train_pass:0,batch_id:200,train_loss:[2.6445718],train_acc:[0.390625]\n",
      "train_pass:0,batch_id:205,train_loss:[2.6042585],train_acc:[0.34375]\n",
      "train_pass:0,batch_id:210,train_loss:[2.5364966],train_acc:[0.46875]\n",
      "train_pass:0,batch_id:215,train_loss:[2.5558095],train_acc:[0.34375]\n",
      "train_pass:0,batch_id:220,train_loss:[2.6485322],train_acc:[0.234375]\n",
      "train_pass:0,batch_id:225,train_loss:[2.7001953],train_acc:[0.203125]\n",
      "train_pass:0,batch_id:230,train_loss:[2.5641944],train_acc:[0.421875]\n",
      "train_pass:0,batch_id:235,train_loss:[2.5748782],train_acc:[0.3125]\n",
      "train_pass:0,batch_id:240,train_loss:[2.5858288],train_acc:[0.421875]\n",
      "train_pass:0,batch_id:245,train_loss:[2.6495852],train_acc:[0.359375]\n",
      "train_pass:0,batch_id:250,train_loss:[2.5411093],train_acc:[0.4375]\n",
      "train_pass:0,batch_id:255,train_loss:[2.3813906],train_acc:[0.4375]\n",
      "train_pass:0,batch_id:260,train_loss:[2.497748],train_acc:[0.4375]\n",
      "train_pass:0,batch_id:265,train_loss:[2.473483],train_acc:[0.421875]\n",
      "train_pass:0,batch_id:270,train_loss:[2.4420924],train_acc:[0.421875]\n",
      "train_pass:0,batch_id:275,train_loss:[2.4164755],train_acc:[0.46875]\n",
      "train_pass:0,batch_id:280,train_loss:[2.4543228],train_acc:[0.40625]\n",
      "train_pass:0,batch_id:285,train_loss:[2.5708277],train_acc:[0.359375]\n",
      "train_pass:0,batch_id:290,train_loss:[2.566783],train_acc:[0.328125]\n",
      "train_pass:0,batch_id:295,train_loss:[2.4329772],train_acc:[0.46875]\n",
      "train_pass:0,batch_id:300,train_loss:[2.398673],train_acc:[0.46875]\n",
      "train_pass:0,batch_id:305,train_loss:[2.4415793],train_acc:[0.484375]\n",
      "train_pass:0,batch_id:310,train_loss:[2.3803942],train_acc:[0.453125]\n",
      "train_pass:0,batch_id:315,train_loss:[2.4795055],train_acc:[0.328125]\n",
      "train_pass:0,batch_id:320,train_loss:[2.3263764],train_acc:[0.40625]\n",
      "train_pass:0,batch_id:325,train_loss:[2.3133984],train_acc:[0.46875]\n",
      "train_pass:0,batch_id:330,train_loss:[2.4251523],train_acc:[0.375]\n",
      "train_pass:0,batch_id:335,train_loss:[2.4231033],train_acc:[0.390625]\n",
      "train_pass:0,batch_id:340,train_loss:[2.2582486],train_acc:[0.40625]\n",
      "train_pass:0,batch_id:345,train_loss:[2.3159602],train_acc:[0.453125]\n",
      "train_pass:0,batch_id:350,train_loss:[2.2553346],train_acc:[0.5]\n",
      "train_pass:0,batch_id:355,train_loss:[2.3213015],train_acc:[0.53125]\n",
      "train_pass:0,batch_id:360,train_loss:[2.4411638],train_acc:[0.359375]\n",
      "train_pass:0,batch_id:365,train_loss:[2.3360116],train_acc:[0.40625]\n",
      "train_pass:0,batch_id:370,train_loss:[2.21443],train_acc:[0.53125]\n",
      "train_pass:0,batch_id:375,train_loss:[2.3041706],train_acc:[0.484375]\n",
      "train_pass:0,batch_id:380,train_loss:[2.2976108],train_acc:[0.40625]\n",
      "train_pass:0,batch_id:385,train_loss:[2.3395345],train_acc:[0.390625]\n",
      "train_pass:0,batch_id:390,train_loss:[2.203251],train_acc:[0.5]\n",
      "train_pass:0,batch_id:395,train_loss:[2.1574237],train_acc:[0.5625]\n",
      "train_pass:0,batch_id:400,train_loss:[2.2697675],train_acc:[0.40625]\n",
      "train_pass:1,batch_id:5,train_loss:[2.1734746],train_acc:[0.40625]\n",
      "train_pass:1,batch_id:10,train_loss:[2.1989503],train_acc:[0.421875]\n",
      "train_pass:1,batch_id:15,train_loss:[2.2197194],train_acc:[0.515625]\n",
      "train_pass:1,batch_id:20,train_loss:[2.1423044],train_acc:[0.46875]\n",
      "train_pass:1,batch_id:25,train_loss:[2.1020467],train_acc:[0.515625]\n",
      "train_pass:1,batch_id:30,train_loss:[2.4697652],train_acc:[0.296875]\n",
      "train_pass:1,batch_id:35,train_loss:[2.1784496],train_acc:[0.46875]\n",
      "train_pass:1,batch_id:40,train_loss:[2.1133785],train_acc:[0.453125]\n",
      "train_pass:1,batch_id:45,train_loss:[2.2046924],train_acc:[0.375]\n",
      "train_pass:1,batch_id:50,train_loss:[2.1353693],train_acc:[0.5]\n",
      "train_pass:1,batch_id:55,train_loss:[2.1505628],train_acc:[0.4375]\n",
      "train_pass:1,batch_id:60,train_loss:[2.2148933],train_acc:[0.40625]\n",
      "train_pass:1,batch_id:65,train_loss:[2.0932775],train_acc:[0.421875]\n",
      "train_pass:1,batch_id:70,train_loss:[2.1113045],train_acc:[0.40625]\n",
      "train_pass:1,batch_id:75,train_loss:[1.9472642],train_acc:[0.59375]\n",
      "train_pass:1,batch_id:80,train_loss:[2.1885357],train_acc:[0.46875]\n",
      "train_pass:1,batch_id:85,train_loss:[2.2248573],train_acc:[0.390625]\n",
      "train_pass:1,batch_id:90,train_loss:[2.048351],train_acc:[0.4375]\n",
      "train_pass:1,batch_id:95,train_loss:[2.1885784],train_acc:[0.53125]\n",
      "train_pass:1,batch_id:100,train_loss:[2.09332],train_acc:[0.4375]\n",
      "train_pass:1,batch_id:105,train_loss:[2.056972],train_acc:[0.5]\n",
      "train_pass:1,batch_id:110,train_loss:[2.1125207],train_acc:[0.421875]\n",
      "train_pass:1,batch_id:115,train_loss:[2.1293144],train_acc:[0.46875]\n",
      "train_pass:1,batch_id:120,train_loss:[2.0041451],train_acc:[0.546875]\n",
      "train_pass:1,batch_id:125,train_loss:[2.1426632],train_acc:[0.515625]\n",
      "train_pass:1,batch_id:130,train_loss:[2.2824821],train_acc:[0.390625]\n",
      "train_pass:1,batch_id:135,train_loss:[2.0885417],train_acc:[0.5]\n",
      "train_pass:1,batch_id:140,train_loss:[2.097512],train_acc:[0.46875]\n",
      "train_pass:1,batch_id:145,train_loss:[2.0006561],train_acc:[0.5]\n",
      "train_pass:1,batch_id:150,train_loss:[1.9141104],train_acc:[0.5625]\n",
      "train_pass:1,batch_id:155,train_loss:[1.9456708],train_acc:[0.578125]\n",
      "train_pass:1,batch_id:160,train_loss:[1.8808889],train_acc:[0.59375]\n",
      "train_pass:1,batch_id:165,train_loss:[1.8704271],train_acc:[0.53125]\n",
      "train_pass:1,batch_id:170,train_loss:[2.0498743],train_acc:[0.515625]\n",
      "train_pass:1,batch_id:175,train_loss:[2.0800612],train_acc:[0.46875]\n",
      "train_pass:1,batch_id:180,train_loss:[1.8757479],train_acc:[0.515625]\n",
      "train_pass:1,batch_id:185,train_loss:[1.8317101],train_acc:[0.546875]\n",
      "train_pass:1,batch_id:190,train_loss:[1.9068558],train_acc:[0.53125]\n",
      "train_pass:1,batch_id:195,train_loss:[1.9267738],train_acc:[0.484375]\n"
     ]
    },
    {
     "ename": "KeyboardInterrupt",
     "evalue": "",
     "output_type": "error",
     "traceback": [
      "\u001b[0;31m---------------------------------------------------------------------------\u001b[0m",
      "\u001b[0;31mKeyboardInterrupt\u001b[0m                         Traceback (most recent call last)",
      "\u001b[0;32m/tmp/ipykernel_879/1779915331.py\u001b[0m in \u001b[0;36m<module>\u001b[0;34m\u001b[0m\n\u001b[1;32m      8\u001b[0m \u001b[0;34m\u001b[0m\u001b[0m\n\u001b[1;32m      9\u001b[0m     \u001b[0;32mfor\u001b[0m \u001b[0mpass_num\u001b[0m \u001b[0;32min\u001b[0m \u001b[0mrange\u001b[0m\u001b[0;34m(\u001b[0m\u001b[0mepochs_num\u001b[0m\u001b[0;34m)\u001b[0m\u001b[0;34m:\u001b[0m\u001b[0;34m\u001b[0m\u001b[0;34m\u001b[0m\u001b[0m\n\u001b[0;32m---> 10\u001b[0;31m         \u001b[0;32mfor\u001b[0m \u001b[0mbatch_id\u001b[0m\u001b[0;34m,\u001b[0m\u001b[0mdata\u001b[0m \u001b[0;32min\u001b[0m \u001b[0menumerate\u001b[0m\u001b[0;34m(\u001b[0m\u001b[0mtrain_reader\u001b[0m\u001b[0;34m(\u001b[0m\u001b[0;34m)\u001b[0m\u001b[0;34m)\u001b[0m\u001b[0;34m:\u001b[0m\u001b[0;34m\u001b[0m\u001b[0;34m\u001b[0m\u001b[0m\n\u001b[0m\u001b[1;32m     11\u001b[0m             \u001b[0mimages\u001b[0m \u001b[0;34m=\u001b[0m \u001b[0mnp\u001b[0m\u001b[0;34m.\u001b[0m\u001b[0marray\u001b[0m\u001b[0;34m(\u001b[0m\u001b[0;34m[\u001b[0m\u001b[0mx\u001b[0m\u001b[0;34m[\u001b[0m\u001b[0;36m0\u001b[0m\u001b[0;34m]\u001b[0m \u001b[0;32mfor\u001b[0m \u001b[0mx\u001b[0m \u001b[0;32min\u001b[0m \u001b[0mdata\u001b[0m\u001b[0;34m]\u001b[0m\u001b[0;34m)\u001b[0m\u001b[0;34m.\u001b[0m\u001b[0mastype\u001b[0m\u001b[0;34m(\u001b[0m\u001b[0;34m'float32'\u001b[0m\u001b[0;34m)\u001b[0m\u001b[0;34m.\u001b[0m\u001b[0mreshape\u001b[0m\u001b[0;34m(\u001b[0m\u001b[0;34m-\u001b[0m\u001b[0;36m1\u001b[0m\u001b[0;34m,\u001b[0m \u001b[0;36m3\u001b[0m\u001b[0;34m,\u001b[0m\u001b[0;36m64\u001b[0m\u001b[0;34m,\u001b[0m\u001b[0;36m64\u001b[0m\u001b[0;34m)\u001b[0m\u001b[0;34m\u001b[0m\u001b[0;34m\u001b[0m\u001b[0m\n\u001b[1;32m     12\u001b[0m             \u001b[0mlabels\u001b[0m \u001b[0;34m=\u001b[0m \u001b[0mnp\u001b[0m\u001b[0;34m.\u001b[0m\u001b[0marray\u001b[0m\u001b[0;34m(\u001b[0m\u001b[0;34m[\u001b[0m\u001b[0mx\u001b[0m\u001b[0;34m[\u001b[0m\u001b[0;36m1\u001b[0m\u001b[0;34m]\u001b[0m \u001b[0;32mfor\u001b[0m \u001b[0mx\u001b[0m \u001b[0;32min\u001b[0m \u001b[0mdata\u001b[0m\u001b[0;34m]\u001b[0m\u001b[0;34m)\u001b[0m\u001b[0;34m.\u001b[0m\u001b[0mastype\u001b[0m\u001b[0;34m(\u001b[0m\u001b[0;34m'int64'\u001b[0m\u001b[0;34m)\u001b[0m\u001b[0;34m\u001b[0m\u001b[0;34m\u001b[0m\u001b[0m\n",
      "\u001b[0;32m/opt/conda/envs/python35-paddle120-env/lib/python3.7/site-packages/paddle/batch.py\u001b[0m in \u001b[0;36mbatch_reader\u001b[0;34m()\u001b[0m\n\u001b[1;32m     56\u001b[0m         \u001b[0mr\u001b[0m \u001b[0;34m=\u001b[0m \u001b[0mreader\u001b[0m\u001b[0;34m(\u001b[0m\u001b[0;34m)\u001b[0m\u001b[0;34m\u001b[0m\u001b[0;34m\u001b[0m\u001b[0m\n\u001b[1;32m     57\u001b[0m         \u001b[0mb\u001b[0m \u001b[0;34m=\u001b[0m \u001b[0;34m[\u001b[0m\u001b[0;34m]\u001b[0m\u001b[0;34m\u001b[0m\u001b[0;34m\u001b[0m\u001b[0m\n\u001b[0;32m---> 58\u001b[0;31m         \u001b[0;32mfor\u001b[0m \u001b[0minstance\u001b[0m \u001b[0;32min\u001b[0m \u001b[0mr\u001b[0m\u001b[0;34m:\u001b[0m\u001b[0;34m\u001b[0m\u001b[0;34m\u001b[0m\u001b[0m\n\u001b[0m\u001b[1;32m     59\u001b[0m             \u001b[0mb\u001b[0m\u001b[0;34m.\u001b[0m\u001b[0mappend\u001b[0m\u001b[0;34m(\u001b[0m\u001b[0minstance\u001b[0m\u001b[0;34m)\u001b[0m\u001b[0;34m\u001b[0m\u001b[0;34m\u001b[0m\u001b[0m\n\u001b[1;32m     60\u001b[0m             \u001b[0;32mif\u001b[0m \u001b[0mlen\u001b[0m\u001b[0;34m(\u001b[0m\u001b[0mb\u001b[0m\u001b[0;34m)\u001b[0m \u001b[0;34m==\u001b[0m \u001b[0mbatch_size\u001b[0m\u001b[0;34m:\u001b[0m\u001b[0;34m\u001b[0m\u001b[0;34m\u001b[0m\u001b[0m\n",
      "\u001b[0;32m/tmp/ipykernel_879/1219004018.py\u001b[0m in \u001b[0;36mreader\u001b[0;34m()\u001b[0m\n\u001b[1;32m     11\u001b[0m                 \u001b[0;32mif\u001b[0m \u001b[0mimg\u001b[0m\u001b[0;34m.\u001b[0m\u001b[0mmode\u001b[0m \u001b[0;34m!=\u001b[0m \u001b[0;34m'RGB'\u001b[0m\u001b[0;34m:\u001b[0m\u001b[0;34m\u001b[0m\u001b[0;34m\u001b[0m\u001b[0m\n\u001b[1;32m     12\u001b[0m                     \u001b[0mimg\u001b[0m \u001b[0;34m=\u001b[0m \u001b[0mimg\u001b[0m\u001b[0;34m.\u001b[0m\u001b[0mconvert\u001b[0m\u001b[0;34m(\u001b[0m\u001b[0;34m'RGB'\u001b[0m\u001b[0;34m)\u001b[0m\u001b[0;34m\u001b[0m\u001b[0;34m\u001b[0m\u001b[0m\n\u001b[0;32m---> 13\u001b[0;31m                 \u001b[0mimg\u001b[0m \u001b[0;34m=\u001b[0m \u001b[0mimg\u001b[0m\u001b[0;34m.\u001b[0m\u001b[0mresize\u001b[0m\u001b[0;34m(\u001b[0m\u001b[0;34m(\u001b[0m\u001b[0;36m64\u001b[0m\u001b[0;34m,\u001b[0m \u001b[0;36m64\u001b[0m\u001b[0;34m)\u001b[0m\u001b[0;34m,\u001b[0m \u001b[0mImage\u001b[0m\u001b[0;34m.\u001b[0m\u001b[0mBILINEAR\u001b[0m\u001b[0;34m)\u001b[0m\u001b[0;34m\u001b[0m\u001b[0;34m\u001b[0m\u001b[0m\n\u001b[0m\u001b[1;32m     14\u001b[0m                 \u001b[0mimg\u001b[0m \u001b[0;34m=\u001b[0m \u001b[0mnp\u001b[0m\u001b[0;34m.\u001b[0m\u001b[0marray\u001b[0m\u001b[0;34m(\u001b[0m\u001b[0mimg\u001b[0m\u001b[0;34m)\u001b[0m\u001b[0;34m.\u001b[0m\u001b[0mastype\u001b[0m\u001b[0;34m(\u001b[0m\u001b[0;34m'float32'\u001b[0m\u001b[0;34m)\u001b[0m\u001b[0;34m\u001b[0m\u001b[0;34m\u001b[0m\u001b[0m\n\u001b[1;32m     15\u001b[0m                 \u001b[0mimg\u001b[0m \u001b[0;34m=\u001b[0m \u001b[0mimg\u001b[0m\u001b[0;34m.\u001b[0m\u001b[0mtranspose\u001b[0m\u001b[0;34m(\u001b[0m\u001b[0;34m(\u001b[0m\u001b[0;36m2\u001b[0m\u001b[0;34m,\u001b[0m \u001b[0;36m0\u001b[0m\u001b[0;34m,\u001b[0m \u001b[0;36m1\u001b[0m\u001b[0;34m)\u001b[0m\u001b[0;34m)\u001b[0m  \u001b[0;31m# HWC to CHW\u001b[0m\u001b[0;34m\u001b[0m\u001b[0;34m\u001b[0m\u001b[0m\n",
      "\u001b[0;32m/opt/conda/envs/python35-paddle120-env/lib/python3.7/site-packages/PIL/Image.py\u001b[0m in \u001b[0;36mresize\u001b[0;34m(self, size, resample, box, reducing_gap)\u001b[0m\n\u001b[1;32m   1884\u001b[0m             \u001b[0;32mreturn\u001b[0m \u001b[0mim\u001b[0m\u001b[0;34m.\u001b[0m\u001b[0mconvert\u001b[0m\u001b[0;34m(\u001b[0m\u001b[0mself\u001b[0m\u001b[0;34m.\u001b[0m\u001b[0mmode\u001b[0m\u001b[0;34m)\u001b[0m\u001b[0;34m\u001b[0m\u001b[0;34m\u001b[0m\u001b[0m\n\u001b[1;32m   1885\u001b[0m \u001b[0;34m\u001b[0m\u001b[0m\n\u001b[0;32m-> 1886\u001b[0;31m         \u001b[0mself\u001b[0m\u001b[0;34m.\u001b[0m\u001b[0mload\u001b[0m\u001b[0;34m(\u001b[0m\u001b[0;34m)\u001b[0m\u001b[0;34m\u001b[0m\u001b[0;34m\u001b[0m\u001b[0m\n\u001b[0m\u001b[1;32m   1887\u001b[0m \u001b[0;34m\u001b[0m\u001b[0m\n\u001b[1;32m   1888\u001b[0m         \u001b[0;32mif\u001b[0m \u001b[0mreducing_gap\u001b[0m \u001b[0;32mis\u001b[0m \u001b[0;32mnot\u001b[0m \u001b[0;32mNone\u001b[0m \u001b[0;32mand\u001b[0m \u001b[0mresample\u001b[0m \u001b[0;34m!=\u001b[0m \u001b[0mNEAREST\u001b[0m\u001b[0;34m:\u001b[0m\u001b[0;34m\u001b[0m\u001b[0;34m\u001b[0m\u001b[0m\n",
      "\u001b[0;32m/opt/conda/envs/python35-paddle120-env/lib/python3.7/site-packages/PIL/ImageFile.py\u001b[0m in \u001b[0;36mload\u001b[0;34m(self)\u001b[0m\n\u001b[1;32m    249\u001b[0m \u001b[0;34m\u001b[0m\u001b[0m\n\u001b[1;32m    250\u001b[0m                             \u001b[0mb\u001b[0m \u001b[0;34m=\u001b[0m \u001b[0mb\u001b[0m \u001b[0;34m+\u001b[0m \u001b[0ms\u001b[0m\u001b[0;34m\u001b[0m\u001b[0;34m\u001b[0m\u001b[0m\n\u001b[0;32m--> 251\u001b[0;31m                             \u001b[0mn\u001b[0m\u001b[0;34m,\u001b[0m \u001b[0merr_code\u001b[0m \u001b[0;34m=\u001b[0m \u001b[0mdecoder\u001b[0m\u001b[0;34m.\u001b[0m\u001b[0mdecode\u001b[0m\u001b[0;34m(\u001b[0m\u001b[0mb\u001b[0m\u001b[0;34m)\u001b[0m\u001b[0;34m\u001b[0m\u001b[0;34m\u001b[0m\u001b[0m\n\u001b[0m\u001b[1;32m    252\u001b[0m                             \u001b[0;32mif\u001b[0m \u001b[0mn\u001b[0m \u001b[0;34m<\u001b[0m \u001b[0;36m0\u001b[0m\u001b[0;34m:\u001b[0m\u001b[0;34m\u001b[0m\u001b[0;34m\u001b[0m\u001b[0m\n\u001b[1;32m    253\u001b[0m                                 \u001b[0;32mbreak\u001b[0m\u001b[0;34m\u001b[0m\u001b[0;34m\u001b[0m\u001b[0m\n",
      "\u001b[0;31mKeyboardInterrupt\u001b[0m: "
     ]
    }
   ],
   "source": [
    "with fluid.dygraph.guard(place = fluid.CUDAPlace(0)):\n",
    "    print(train_parameters['class_dim'])\n",
    "    print(train_parameters['label_dict'])\n",
    "    model=MyDNN() #模型实例化\n",
    "    model.train() #训练模式\n",
    "    opt=fluid.optimizer.SGDOptimizer(learning_rate=train_parameters['learning_strategy']['lr'], parameter_list=model.parameters())#优化器选用SGD随机梯度下降，学习率为0.001.\n",
    "    epochs_num=train_parameters['num_epochs'] #迭代次数\n",
    "    \n",
    "    for pass_num in range(epochs_num):\n",
    "        for batch_id,data in enumerate(train_reader()):\n",
    "            images = np.array([x[0] for x in data]).astype('float32').reshape(-1, 3,64,64)\n",
    "            labels = np.array([x[1] for x in data]).astype('int64')\n",
    "            labels = labels[:, np.newaxis]\n",
    "\n",
    "            image=fluid.dygraph.to_variable(images)\n",
    "            label=fluid.dygraph.to_variable(labels)\n",
    "\n",
    "            predict=model(image) #数据传入model\n",
    "            \n",
    "            loss=fluid.layers.cross_entropy(predict,label)\n",
    "            avg_loss=fluid.layers.mean(loss)#获取loss值\n",
    "            \n",
    "            acc=fluid.layers.accuracy(predict,label)#计算精度\n",
    "            \n",
    "            if batch_id!=0 and batch_id%5==0:\n",
    "                Batch = Batch+5 \n",
    "                Batchs.append(Batch)\n",
    "                all_train_loss.append(avg_loss.numpy()[0])\n",
    "                all_train_accs.append(acc.numpy()[0])\n",
    "                \n",
    "                print(\"train_pass:{},batch_id:{},train_loss:{},train_acc:{}\".format(pass_num,batch_id,avg_loss.numpy(),acc.numpy()))\n",
    "            \n",
    "            avg_loss.backward()       \n",
    "            opt.minimize(avg_loss)    #优化器对象的minimize方法对参数进行更新 \n",
    "            model.clear_gradients()   #model.clear_gradients()来重置梯度\n",
    "    fluid.save_dygraph(model.state_dict(),'MyDNN')#保存模型\n",
    "\n",
    "draw_train_acc(Batchs,all_train_accs)\n",
    "draw_train_loss(Batchs,all_train_loss)"
   ]
  },
  {
   "cell_type": "markdown",
   "metadata": {
    "collapsed": false
   },
   "source": [
    "# 4、模型评估"
   ]
  },
  {
   "cell_type": "code",
   "execution_count": 18,
   "metadata": {
    "collapsed": false
   },
   "outputs": [
    {
     "name": "stdout",
     "output_type": "stream",
     "text": [
      "0.046875\n"
     ]
    }
   ],
   "source": [
    "\n",
    "#模型评估\n",
    "with fluid.dygraph.guard():\n",
    "    accs = []\n",
    "    model_dict, _ = fluid.load_dygraph('MyDNN')\n",
    "    model = MyDNN()\n",
    "    model.load_dict(model_dict) #加载模型参数\n",
    "    model.eval() #训练模式\n",
    "    for batch_id,data in enumerate(eval_reader()):#测试集\n",
    "        images = np.array([x[0] for x in data]).astype('float32').reshape(-1, 3,64,64)\n",
    "        labels = np.array([x[1] for x in data]).astype('int64')\n",
    "        labels = labels[:, np.newaxis]\n",
    "        image=fluid.dygraph.to_variable(images)\n",
    "        label=fluid.dygraph.to_variable(labels)       \n",
    "        predict=model(image)       \n",
    "        acc=fluid.layers.accuracy(predict,label)\n",
    "        accs.append(acc.numpy()[0])\n",
    "        avg_acc = np.mean(accs)\n",
    "    print(avg_acc)"
   ]
  },
  {
   "cell_type": "markdown",
   "metadata": {
    "collapsed": false
   },
   "source": [
    "# 5、模型预测"
   ]
  },
  {
   "cell_type": "code",
   "execution_count": 19,
   "metadata": {
    "collapsed": false
   },
   "outputs": [],
   "source": [
    "import os\n",
    "import zipfile\n",
    "\n",
    "def unzip_infer_data(src_path,target_path):\n",
    "    '''\n",
    "    解压预测数据集\n",
    "    '''\n",
    "    if(not os.path.isdir(target_path)):     \n",
    "        z = zipfile.ZipFile(src_path, 'r')\n",
    "        z.extractall(path=target_path)\n",
    "        z.close()\n",
    "\n",
    "\n",
    "def load_image(img_path):\n",
    "    '''\n",
    "    预测图片预处理\n",
    "    '''\n",
    "    img = Image.open(img_path) \n",
    "    if img.mode != 'RGB': \n",
    "        img = img.convert('RGB') \n",
    "    img = img.resize((224, 224), Image.BILINEAR)\n",
    "    img = np.array(img).astype('float32') \n",
    "    img = img.transpose((2, 0, 1))  # HWC to CHW \n",
    "    img = img/255                # 像素值归一化 \n",
    "    return img\n",
    "\n",
    "\n",
    "infer_src_path = '/home/aistudio/data/data66363/archive_test.zip'\n",
    "infer_dst_path = '/home/aistudio/data/archive_test'\n",
    "unzip_infer_data(infer_src_path,infer_dst_path)"
   ]
  },
  {
   "cell_type": "code",
   "execution_count": 20,
   "metadata": {
    "collapsed": false
   },
   "outputs": [
    {
     "data": {
      "image/png": "[encoded data removed]",
      "text/plain": [
       "<Figure size 432x288 with 1 Axes>"
      ]
     },
     "metadata": {},
     "output_type": "display_data"
    },
    {
     "ename": "EnforceNotMet",
     "evalue": "\n\n--------------------------------------------\nC++ Call Stacks (More useful to developers):\n--------------------------------------------\n0   std::string paddle::platform::GetTraceBackString<std::string const&>(std::string const&, char const*, int)\n1   paddle::platform::EnforceNotMet::EnforceNotMet(std::string const&, char const*, int)\n2   paddle::operators::ReshapeOp::ValidateShape(std::vector<int, std::allocator<int> >, paddle::framework::DDim const&)\n3   paddle::operators::ReshapeOp::InferShape(paddle::framework::InferShapeContext*) const\n4   paddle::operators::Reshape2Op::InferShape(paddle::framework::InferShapeContext*) const\n5   paddle::imperative::PreparedOp::Run(paddle::imperative::NameVarBaseMap const&, paddle::imperative::NameVarBaseMap const&, paddle::framework::AttributeMap const&)\n6   paddle::imperative::OpBase::Run(paddle::framework::OperatorBase const&, paddle::imperative::NameVarBaseMap const&, paddle::imperative::NameVarBaseMap const&, paddle::framework::AttributeMap const&, paddle::platform::Place const&)\n7   paddle::imperative::Tracer::TraceOp(std::string const&, paddle::imperative::NameVarBaseMap const&, paddle::imperative::NameVarBaseMap const&, paddle::framework::AttributeMap, paddle::platform::Place const&, bool)\n8   paddle::imperative::Tracer::TraceOp(std::string const&, paddle::imperative::NameVarBaseMap const&, paddle::imperative::NameVarBaseMap const&, paddle::framework::AttributeMap)\n\n----------------------\nError Message Summary:\n----------------------\nInvalidArgumentError: The 'shape' attribute in ReshapeOp is invalid. The input tensor X'size must be divisible by known capacity of 'shape'. But received X's shape = [1, 3, 224, 224], X's size = 150528, 'shape' is [-1, 12288], known capacity of 'shape' is -12288.\n  [Hint: Expected output_shape[unk_dim_idx] * capacity == -in_size, but received output_shape[unk_dim_idx] * capacity:-147456 != -in_size:-150528.] at (/paddle/paddle/fluid/operators/reshape_op.cc:192)\n  [operator < reshape2 > error]",
     "output_type": "error",
     "traceback": [
      "\u001b[0;31m---------------------------------------------------------------------------\u001b[0m",
      "\u001b[0;31mEnforceNotMet\u001b[0m                             Traceback (most recent call last)",
      "\u001b[0;32m/tmp/ipykernel_879/3945880234.py\u001b[0m in \u001b[0;36m<module>\u001b[0;34m\u001b[0m\n\u001b[1;32m     26\u001b[0m         \u001b[0mdy_x_data\u001b[0m\u001b[0;34m=\u001b[0m\u001b[0mdy_x_data\u001b[0m\u001b[0;34m[\u001b[0m\u001b[0mnp\u001b[0m\u001b[0;34m.\u001b[0m\u001b[0mnewaxis\u001b[0m\u001b[0;34m,\u001b[0m\u001b[0;34m:\u001b[0m\u001b[0;34m,\u001b[0m \u001b[0;34m:\u001b[0m \u001b[0;34m,\u001b[0m\u001b[0;34m:\u001b[0m\u001b[0;34m]\u001b[0m\u001b[0;34m\u001b[0m\u001b[0;34m\u001b[0m\u001b[0m\n\u001b[1;32m     27\u001b[0m         \u001b[0mimg\u001b[0m \u001b[0;34m=\u001b[0m \u001b[0mfluid\u001b[0m\u001b[0;34m.\u001b[0m\u001b[0mdygraph\u001b[0m\u001b[0;34m.\u001b[0m\u001b[0mto_variable\u001b[0m\u001b[0;34m(\u001b[0m\u001b[0mdy_x_data\u001b[0m\u001b[0;34m)\u001b[0m\u001b[0;34m\u001b[0m\u001b[0;34m\u001b[0m\u001b[0m\n\u001b[0;32m---> 28\u001b[0;31m         \u001b[0mout\u001b[0m \u001b[0;34m=\u001b[0m \u001b[0mmodel\u001b[0m\u001b[0;34m(\u001b[0m\u001b[0mimg\u001b[0m\u001b[0;34m)\u001b[0m\u001b[0;34m\u001b[0m\u001b[0;34m\u001b[0m\u001b[0m\n\u001b[0m\u001b[1;32m     29\u001b[0m         \u001b[0mlab\u001b[0m \u001b[0;34m=\u001b[0m \u001b[0mnp\u001b[0m\u001b[0;34m.\u001b[0m\u001b[0margmax\u001b[0m\u001b[0;34m(\u001b[0m\u001b[0mout\u001b[0m\u001b[0;34m.\u001b[0m\u001b[0mnumpy\u001b[0m\u001b[0;34m(\u001b[0m\u001b[0;34m)\u001b[0m\u001b[0;34m)\u001b[0m  \u001b[0;31m#argmax():返回最大数的索引\u001b[0m\u001b[0;34m\u001b[0m\u001b[0;34m\u001b[0m\u001b[0m\n\u001b[1;32m     30\u001b[0m \u001b[0;34m\u001b[0m\u001b[0m\n",
      "\u001b[0;32m/opt/conda/envs/python35-paddle120-env/lib/python3.7/site-packages/paddle/fluid/dygraph/layers.py\u001b[0m in \u001b[0;36m__call__\u001b[0;34m(self, *inputs, **kwargs)\u001b[0m\n\u001b[1;32m    459\u001b[0m \u001b[0;34m\u001b[0m\u001b[0m\n\u001b[1;32m    460\u001b[0m         \u001b[0;32mwith\u001b[0m \u001b[0mparam_guard\u001b[0m\u001b[0;34m(\u001b[0m\u001b[0mself\u001b[0m\u001b[0;34m.\u001b[0m\u001b[0m_parameters\u001b[0m\u001b[0;34m)\u001b[0m\u001b[0;34m:\u001b[0m\u001b[0;34m\u001b[0m\u001b[0;34m\u001b[0m\u001b[0m\n\u001b[0;32m--> 461\u001b[0;31m             \u001b[0moutputs\u001b[0m \u001b[0;34m=\u001b[0m \u001b[0mself\u001b[0m\u001b[0;34m.\u001b[0m\u001b[0mforward\u001b[0m\u001b[0;34m(\u001b[0m\u001b[0;34m*\u001b[0m\u001b[0minputs\u001b[0m\u001b[0;34m,\u001b[0m \u001b[0;34m**\u001b[0m\u001b[0mkwargs\u001b[0m\u001b[0;34m)\u001b[0m\u001b[0;34m\u001b[0m\u001b[0;34m\u001b[0m\u001b[0m\n\u001b[0m\u001b[1;32m    462\u001b[0m \u001b[0;34m\u001b[0m\u001b[0m\n\u001b[1;32m    463\u001b[0m         \u001b[0;32mfor\u001b[0m \u001b[0mforward_post_hook\u001b[0m \u001b[0;32min\u001b[0m \u001b[0mself\u001b[0m\u001b[0;34m.\u001b[0m\u001b[0m_forward_post_hooks\u001b[0m\u001b[0;34m.\u001b[0m\u001b[0mvalues\u001b[0m\u001b[0;34m(\u001b[0m\u001b[0;34m)\u001b[0m\u001b[0;34m:\u001b[0m\u001b[0;34m\u001b[0m\u001b[0;34m\u001b[0m\u001b[0m\n",
      "\u001b[0;32m/tmp/ipykernel_879/4253485738.py\u001b[0m in \u001b[0;36mforward\u001b[0;34m(self, input)\u001b[0m\n\u001b[1;32m     12\u001b[0m \u001b[0;34m\u001b[0m\u001b[0m\n\u001b[1;32m     13\u001b[0m     \u001b[0;32mdef\u001b[0m \u001b[0mforward\u001b[0m\u001b[0;34m(\u001b[0m\u001b[0mself\u001b[0m\u001b[0;34m,\u001b[0m\u001b[0minput\u001b[0m\u001b[0;34m)\u001b[0m\u001b[0;34m:\u001b[0m\u001b[0;34m\u001b[0m\u001b[0;34m\u001b[0m\u001b[0m\n\u001b[0;32m---> 14\u001b[0;31m         \u001b[0mx\u001b[0m \u001b[0;34m=\u001b[0m \u001b[0mfluid\u001b[0m\u001b[0;34m.\u001b[0m\u001b[0mlayers\u001b[0m\u001b[0;34m.\u001b[0m\u001b[0mreshape\u001b[0m\u001b[0;34m(\u001b[0m\u001b[0minput\u001b[0m\u001b[0;34m,\u001b[0m\u001b[0mshape\u001b[0m\u001b[0;34m=\u001b[0m\u001b[0;34m[\u001b[0m\u001b[0;34m-\u001b[0m\u001b[0;36m1\u001b[0m\u001b[0;34m,\u001b[0m\u001b[0;36m3\u001b[0m\u001b[0;34m*\u001b[0m\u001b[0;36m64\u001b[0m\u001b[0;34m*\u001b[0m\u001b[0;36m64\u001b[0m\u001b[0;34m]\u001b[0m\u001b[0;34m)\u001b[0m\u001b[0;34m\u001b[0m\u001b[0;34m\u001b[0m\u001b[0m\n\u001b[0m\u001b[1;32m     15\u001b[0m         \u001b[0mx\u001b[0m \u001b[0;34m=\u001b[0m \u001b[0mself\u001b[0m\u001b[0;34m.\u001b[0m\u001b[0mhidden1\u001b[0m\u001b[0;34m(\u001b[0m\u001b[0mx\u001b[0m\u001b[0;34m)\u001b[0m\u001b[0;34m\u001b[0m\u001b[0;34m\u001b[0m\u001b[0m\n\u001b[1;32m     16\u001b[0m         \u001b[0mx\u001b[0m \u001b[0;34m=\u001b[0m \u001b[0mself\u001b[0m\u001b[0;34m.\u001b[0m\u001b[0mhidden2\u001b[0m\u001b[0;34m(\u001b[0m\u001b[0mx\u001b[0m\u001b[0;34m)\u001b[0m\u001b[0;34m\u001b[0m\u001b[0;34m\u001b[0m\u001b[0m\n",
      "\u001b[0;32m/opt/conda/envs/python35-paddle120-env/lib/python3.7/site-packages/paddle/fluid/layers/nn.py\u001b[0m in \u001b[0;36mreshape\u001b[0;34m(x, shape, actual_shape, act, inplace, name)\u001b[0m\n\u001b[1;32m   7372\u001b[0m                 \"received %s.\" % type(shape))\n\u001b[1;32m   7373\u001b[0m \u001b[0;34m\u001b[0m\u001b[0m\n\u001b[0;32m-> 7374\u001b[0;31m         \u001b[0mout\u001b[0m\u001b[0;34m,\u001b[0m \u001b[0m_\u001b[0m \u001b[0;34m=\u001b[0m \u001b[0mcore\u001b[0m\u001b[0;34m.\u001b[0m\u001b[0mops\u001b[0m\u001b[0;34m.\u001b[0m\u001b[0mreshape2\u001b[0m\u001b[0;34m(\u001b[0m\u001b[0mx\u001b[0m\u001b[0;34m,\u001b[0m \u001b[0;34m'shape'\u001b[0m\u001b[0;34m,\u001b[0m \u001b[0mshape\u001b[0m\u001b[0;34m)\u001b[0m\u001b[0;34m\u001b[0m\u001b[0;34m\u001b[0m\u001b[0m\n\u001b[0m\u001b[1;32m   7375\u001b[0m         \u001b[0;32mreturn\u001b[0m \u001b[0mdygraph_utils\u001b[0m\u001b[0;34m.\u001b[0m\u001b[0m_append_activation_in_dygraph\u001b[0m\u001b[0;34m(\u001b[0m\u001b[0mout\u001b[0m\u001b[0;34m,\u001b[0m \u001b[0mact\u001b[0m\u001b[0;34m)\u001b[0m\u001b[0;34m\u001b[0m\u001b[0;34m\u001b[0m\u001b[0m\n\u001b[1;32m   7376\u001b[0m \u001b[0;34m\u001b[0m\u001b[0m\n",
      "\u001b[0;31mEnforceNotMet\u001b[0m: \n\n--------------------------------------------\nC++ Call Stacks (More useful to developers):\n--------------------------------------------\n0   std::string paddle::platform::GetTraceBackString<std::string const&>(std::string const&, char const*, int)\n1   paddle::platform::EnforceNotMet::EnforceNotMet(std::string const&, char const*, int)\n2   paddle::operators::ReshapeOp::ValidateShape(std::vector<int, std::allocator<int> >, paddle::framework::DDim const&)\n3   paddle::operators::ReshapeOp::InferShape(paddle::framework::InferShapeContext*) const\n4   paddle::operators::Reshape2Op::InferShape(paddle::framework::InferShapeContext*) const\n5   paddle::imperative::PreparedOp::Run(paddle::imperative::NameVarBaseMap const&, paddle::imperative::NameVarBaseMap const&, paddle::framework::AttributeMap const&)\n6   paddle::imperative::OpBase::Run(paddle::framework::OperatorBase const&, paddle::imperative::NameVarBaseMap const&, paddle::imperative::NameVarBaseMap const&, paddle::framework::AttributeMap const&, paddle::platform::Place const&)\n7   paddle::imperative::Tracer::TraceOp(std::string const&, paddle::imperative::NameVarBaseMap const&, paddle::imperative::NameVarBaseMap const&, paddle::framework::AttributeMap, paddle::platform::Place const&, bool)\n8   paddle::imperative::Tracer::TraceOp(std::string const&, paddle::imperative::NameVarBaseMap const&, paddle::imperative::NameVarBaseMap const&, paddle::framework::AttributeMap)\n\n----------------------\nError Message Summary:\n----------------------\nInvalidArgumentError: The 'shape' attribute in ReshapeOp is invalid. The input tensor X'size must be divisible by known capacity of 'shape'. But received X's shape = [1, 3, 224, 224], X's size = 150528, 'shape' is [-1, 12288], known capacity of 'shape' is -12288.\n  [Hint: Expected output_shape[unk_dim_idx] * capacity == -in_size, but received output_shape[unk_dim_idx] * capacity:-147456 != -in_size:-150528.] at (/paddle/paddle/fluid/operators/reshape_op.cc:192)\n  [operator < reshape2 > error]"
     ]
    }
   ],
   "source": [
    "label_dic = train_parameters['label_dict']\n",
    "\n",
    "'''\n",
    "模型预测\n",
    "'''\n",
    "with fluid.dygraph.guard():\n",
    "    model_dict, _ = fluid.load_dygraph('MyDNN')\n",
    "    model = MyDNN()\n",
    "    model.load_dict(model_dict) #加载模型参数\n",
    "    model.eval() #训练模式\n",
    "    \n",
    "    #展示预测图片\n",
    "    infer_path='data/archive_test/alexandrite_3.jpg'\n",
    "    img = Image.open(infer_path)\n",
    "    plt.imshow(img)          #根据数组绘制图像\n",
    "    plt.show()               #显示图像\n",
    "\n",
    "    #对预测图片进行预处理\n",
    "    infer_imgs = []\n",
    "    infer_imgs.append(load_image(infer_path))\n",
    "    infer_imgs = np.array(infer_imgs)\n",
    "   \n",
    "    for i in range(len(infer_imgs)):\n",
    "        data = infer_imgs[i]\n",
    "        dy_x_data = np.array(data).astype('float32')\n",
    "        dy_x_data=dy_x_data[np.newaxis,:, : ,:]\n",
    "        img = fluid.dygraph.to_variable(dy_x_data)\n",
    "        out = model(img)\n",
    "        lab = np.argmax(out.numpy())  #argmax():返回最大数的索引\n",
    "\n",
    "        print(\"第{}个样本,被预测为：{},真实标签为：{}\".format(i+1,label_dic[str(lab)],infer_path.split('/')[-1].split(\"_\")[0]))\n",
    "        \n",
    "print(\"结束\")"
   ]
  }
 ],
 "metadata": {
  "kernelspec": {
   "display_name": "Python 3",
   "language": "python",
   "name": "py35-paddle1.2.0"
  },
  "language_info": {
   "codemirror_mode": {
    "name": "ipython",
    "version": 3
   },
   "file_extension": ".py",
   "mimetype": "text/x-python",
   "name": "python",
   "nbconvert_exporter": "python",
   "pygments_lexer": "ipython3",
   "version": "3.7.4"
  }
 },
 "nbformat": 4,
 "nbformat_minor": 1
}
